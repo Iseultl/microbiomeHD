{
 "cells": [
  {
   "cell_type": "markdown",
   "metadata": {},
   "source": [
    "This notebook provides some additional information to help us decide how to approach addressing the reviewer's comments"
   ]
  },
  {
   "cell_type": "code",
   "execution_count": 15,
   "metadata": {
    "collapsed": false
   },
   "outputs": [],
   "source": [
    "import os\n",
    "import sys\n",
    "import pandas as pd\n",
    "import numpy as np\n",
    "\n",
    "import matplotlib.pyplot as plt\n",
    "%matplotlib inline\n",
    "import seaborn as sns\n",
    "\n",
    "from IPython.display import display\n",
    "\n",
    "# Add this repo to the path\n",
    "src_dir = os.path.normpath(os.path.join(os.getcwd(), '../util'))\n",
    "sys.path.insert(0, src_dir)\n",
    "import FileIO as fio\n",
    "import Formatting as fmt\n"
   ]
  },
  {
   "cell_type": "markdown",
   "metadata": {},
   "source": [
    "## Comment: the definition of ‘cases’ may need reconsidering for some diseases\n",
    "\n",
    "> Similar to the concern over the data used for the Schubert CDI data, the definition of ‘cases’ may need reconsidering for some diseases - what is a case for an HIV patient, for instance? Actively replicating virus? Reduced CD4 count? People that are HIV positive are often quite healthy with no detectable viral load. Similarly, IBD encompasses a range of bowel diseases and a ‘case’ of UC is different from a ‘case’ of Crohn’s. Further, a note or clarification of whether any of these patients were on antibiotics (and if this could be a confounding factor) is necessary.\n",
    "\n",
    "It's true, I combined UC and CD patients in 3 out of 4 IBD studies (one study only had CD). Mentioning confounding factors can be addressed more clearly in the paper, as well as in the reviewer response (we honestly don't have that kind of metadata for the majority of these studies...).\n",
    "\n",
    "But what should we do about these IBD studies? And others which have multiple types of cases?"
   ]
  },
  {
   "cell_type": "code",
   "execution_count": 10,
   "metadata": {
    "collapsed": false
   },
   "outputs": [],
   "source": [
    "yaml_file = '../../data/user_input/results_folders.yaml'\n",
    "raw_data_dir = '../../data/raw_otu_tables'\n",
    "clean_data_dir = '../../data/clean_tables'"
   ]
  },
  {
   "cell_type": "code",
   "execution_count": 15,
   "metadata": {
    "collapsed": false
   },
   "outputs": [],
   "source": [
    "yamlinfo = fio.read_yaml(yaml_file, raw_data_dir)\n",
    "\n",
    "# Read the datasets\n",
    "\n",
    "dfs = dict.fromkeys(yamlinfo.keys())\n",
    "for dataset in yamlinfo:\n",
    "    df, meta = fio.read_dataset_files(dataset, clean_data_dir)\n",
    "    \n",
    "    # Store dataframes so I only have to read them once\n",
    "    dfs[dataset] = {'df': df, 'meta': meta}    "
   ]
  },
  {
   "cell_type": "code",
   "execution_count": 16,
   "metadata": {
    "collapsed": false
   },
   "outputs": [],
   "source": [
    "# Get case/control numbers\n",
    "statslst = {}\n",
    "\n",
    "for dataset in dfs:\n",
    "    meta = dfs[dataset]['meta']\n",
    "    \n",
    "    classes_list = fio.get_classes(meta)\n",
    "    [h_smpls, dis_smpls] = fio.get_samples(meta, classes_list)\n",
    "    \n",
    "    statslst[dataset] = dict.fromkeys(['cases', 'controls'])\n",
    "    statslst[dataset]['controls'] = {i: len(meta.query('DiseaseState == @i')) for i in classes_list[0]}\n",
    "    statslst[dataset]['cases'] = {i: len(meta.query('DiseaseState == @i')) for i in classes_list[1]}"
   ]
  },
  {
   "cell_type": "code",
   "execution_count": 19,
   "metadata": {
    "collapsed": false
   },
   "outputs": [
    {
     "name": "stdout",
     "output_type": "stream",
     "text": [
      "('ra_scher', {'PSA': 16, 'RA': 70})\n",
      "('ibd_papa', {'UC': 43, 'CD': 23})\n",
      "('mhe_zhang', {'CIRR': 25, 'MHE': 21})\n",
      "('ibd_morgan', {'UC': 47, 'CD': 61})\n",
      "('ibd_willing', {'UC': 16, 'CD': 29})\n"
     ]
    }
   ],
   "source": [
    "for dataset in statslst:\n",
    "    if len(statslst[dataset]['cases']) > 1:\n",
    "        print(dataset, statslst[dataset]['cases'])\n"
   ]
  },
  {
   "cell_type": "markdown",
   "metadata": {},
   "source": [
    "** I think we can just do these split analyses! **\n",
    "\n",
    "I was planning on separating the Liver cirrhosis (CIRR) and Minimal hepatic encelopathy (MHE) analyses and the Psoriatic arthritis (PSA) and rheumatoid arthritis (RA) anyway. Might as well also split up the UC/CD comparisons... I think this will significantly lower our power to detect anything but hopefully still a few things come up."
   ]
  },
  {
   "cell_type": "markdown",
   "metadata": {},
   "source": [
    "## Comment: CDI bugs are over-represented in 'core' microbes?\n",
    "\n",
    "> When testing and generating the ‘core’ microbiome across all diseases, we wonder whether testing for the core falsely amplified the CDI-related microbes in the pan-disease core because there were so many that were altered in cases?"
   ]
  },
  {
   "cell_type": "code",
   "execution_count": 67,
   "metadata": {
    "collapsed": false
   },
   "outputs": [],
   "source": [
    "fn_core = '../../data/analysis_results/meta.counting.q-0.05.2_diseases.across_all_diseases.sig_ordered.txt'\n",
    "fn_disease = '../../data/analysis_results/meta.counting.q-0.05.disease_wise.sig_ordered.txt'\n",
    "fn_allpvals = '../../data/analysis_results/q-val_all_results.mean.kruskal-wallis.case-control.sig_ordered.txt'\n",
    "\n",
    "overall_meta = pd.read_csv(fn_core, sep='\\t', index_col=0)\n",
    "disease_meta = pd.read_csv(fn_disease, sep='\\t', index_col=0)\n",
    "pvals = pd.read_csv(fn_allpvals, sep='\\t', index_col=0)"
   ]
  },
  {
   "cell_type": "code",
   "execution_count": 25,
   "metadata": {
    "collapsed": false
   },
   "outputs": [
    {
     "data": {
      "text/html": [
       "<div>\n",
       "<table border=\"1\" class=\"dataframe\">\n",
       "  <thead>\n",
       "    <tr style=\"text-align: right;\">\n",
       "      <th></th>\n",
       "      <th>overall</th>\n",
       "    </tr>\n",
       "  </thead>\n",
       "  <tbody>\n",
       "    <tr>\n",
       "      <th>k__Bacteria;p__Fusobacteria;c__Fusobacteriia;o__Fusobacteriales;f__Fusobacteriaceae;g__Fusobacterium</th>\n",
       "      <td>1.0</td>\n",
       "    </tr>\n",
       "    <tr>\n",
       "      <th>k__Bacteria;p__Verrucomicrobia;c__Verrucomicrobiae;o__Verrucomicrobiales;f__Verrucomicrobiaceae;g__Akkermansia</th>\n",
       "      <td>-1.0</td>\n",
       "    </tr>\n",
       "    <tr>\n",
       "      <th>k__Bacteria;p__Firmicutes;c__Clostridia;o__Clostridiales;f__Clostridiales_Incertae_Sedis_XI;g__Parvimonas</th>\n",
       "      <td>1.0</td>\n",
       "    </tr>\n",
       "    <tr>\n",
       "      <th>k__Bacteria;p__Firmicutes;c__Clostridia;o__Clostridiales;f__Clostridiales_Incertae_Sedis_XI;g__Peptoniphilus</th>\n",
       "      <td>1.0</td>\n",
       "    </tr>\n",
       "    <tr>\n",
       "      <th>k__Bacteria;p__Firmicutes;c__Clostridia;o__Clostridiales;f__Incertae_Sedis_XI;g__Murdochiella</th>\n",
       "      <td>-1.0</td>\n",
       "    </tr>\n",
       "  </tbody>\n",
       "</table>\n",
       "</div>"
      ],
      "text/plain": [
       "                                                    overall\n",
       "k__Bacteria;p__Fusobacteria;c__Fusobacteriia;o_...      1.0\n",
       "k__Bacteria;p__Verrucomicrobia;c__Verrucomicrob...     -1.0\n",
       "k__Bacteria;p__Firmicutes;c__Clostridia;o__Clos...      1.0\n",
       "k__Bacteria;p__Firmicutes;c__Clostridia;o__Clos...      1.0\n",
       "k__Bacteria;p__Firmicutes;c__Clostridia;o__Clos...     -1.0"
      ]
     },
     "execution_count": 25,
     "metadata": {},
     "output_type": "execute_result"
    }
   ],
   "source": [
    "#overall_meta.dropna(how='all').head()"
   ]
  },
  {
   "cell_type": "code",
   "execution_count": 26,
   "metadata": {
    "collapsed": false
   },
   "outputs": [
    {
     "data": {
      "text/html": [
       "<div>\n",
       "<table border=\"1\" class=\"dataframe\">\n",
       "  <thead>\n",
       "    <tr style=\"text-align: right;\">\n",
       "      <th></th>\n",
       "      <th>crc</th>\n",
       "      <th>ob</th>\n",
       "      <th>ibd</th>\n",
       "      <th>cdi</th>\n",
       "      <th>hiv</th>\n",
       "    </tr>\n",
       "  </thead>\n",
       "  <tbody>\n",
       "    <tr>\n",
       "      <th>k__Bacteria;p__Fusobacteria;c__Fusobacteriia;o__Fusobacteriales;f__Fusobacteriaceae;g__Fusobacterium</th>\n",
       "      <td>1.0</td>\n",
       "      <td>NaN</td>\n",
       "      <td>NaN</td>\n",
       "      <td>1.0</td>\n",
       "      <td>NaN</td>\n",
       "    </tr>\n",
       "    <tr>\n",
       "      <th>k__Bacteria;p__Firmicutes;c__Clostridia;o__Clostridiales;f__Clostridiales_Incertae_Sedis_XI;g__Parvimonas</th>\n",
       "      <td>1.0</td>\n",
       "      <td>NaN</td>\n",
       "      <td>NaN</td>\n",
       "      <td>1.0</td>\n",
       "      <td>NaN</td>\n",
       "    </tr>\n",
       "    <tr>\n",
       "      <th>k__Bacteria;p__Firmicutes;c__Negativicutes;o__Selenomonadales;f__Veillonellaceae;g__Dialister</th>\n",
       "      <td>NaN</td>\n",
       "      <td>NaN</td>\n",
       "      <td>NaN</td>\n",
       "      <td>-1.0</td>\n",
       "      <td>NaN</td>\n",
       "    </tr>\n",
       "    <tr>\n",
       "      <th>k__Bacteria;p__Firmicutes;c__Negativicutes;o__Selenomonadales;f__Veillonellaceae;g__Veillonella</th>\n",
       "      <td>NaN</td>\n",
       "      <td>NaN</td>\n",
       "      <td>NaN</td>\n",
       "      <td>1.0</td>\n",
       "      <td>NaN</td>\n",
       "    </tr>\n",
       "    <tr>\n",
       "      <th>k__Bacteria;p__Firmicutes;c__Bacilli;o__Lactobacillales;f__Streptococcaceae;g__Streptococcus</th>\n",
       "      <td>NaN</td>\n",
       "      <td>NaN</td>\n",
       "      <td>NaN</td>\n",
       "      <td>1.0</td>\n",
       "      <td>NaN</td>\n",
       "    </tr>\n",
       "  </tbody>\n",
       "</table>\n",
       "</div>"
      ],
      "text/plain": [
       "                                                    crc  ob  ibd  cdi  hiv\n",
       "k__Bacteria;p__Fusobacteria;c__Fusobacteriia;o_...  1.0 NaN  NaN  1.0  NaN\n",
       "k__Bacteria;p__Firmicutes;c__Clostridia;o__Clos...  1.0 NaN  NaN  1.0  NaN\n",
       "k__Bacteria;p__Firmicutes;c__Negativicutes;o__S...  NaN NaN  NaN -1.0  NaN\n",
       "k__Bacteria;p__Firmicutes;c__Negativicutes;o__S...  NaN NaN  NaN  1.0  NaN\n",
       "k__Bacteria;p__Firmicutes;c__Bacilli;o__Lactoba...  NaN NaN  NaN  1.0  NaN"
      ]
     },
     "execution_count": 26,
     "metadata": {},
     "output_type": "execute_result"
    }
   ],
   "source": [
    "#disease_meta.dropna(how='all').head()"
   ]
  },
  {
   "cell_type": "code",
   "execution_count": 49,
   "metadata": {
    "collapsed": false
   },
   "outputs": [
    {
     "data": {
      "text/html": [
       "<div>\n",
       "<table border=\"1\" class=\"dataframe\">\n",
       "  <thead>\n",
       "    <tr style=\"text-align: right;\">\n",
       "      <th></th>\n",
       "      <th>overall</th>\n",
       "      <th>crc</th>\n",
       "      <th>ob</th>\n",
       "      <th>ibd</th>\n",
       "      <th>cdi</th>\n",
       "      <th>hiv</th>\n",
       "    </tr>\n",
       "  </thead>\n",
       "  <tbody>\n",
       "    <tr>\n",
       "      <th>k__Bacteria;p__Fusobacteria;c__Fusobacteriia;o__Fusobacteriales;f__Fusobacteriaceae;g__Fusobacterium</th>\n",
       "      <td>1.0</td>\n",
       "      <td>1.0</td>\n",
       "      <td>NaN</td>\n",
       "      <td>NaN</td>\n",
       "      <td>1.0</td>\n",
       "      <td>NaN</td>\n",
       "    </tr>\n",
       "    <tr>\n",
       "      <th>k__Bacteria;p__Verrucomicrobia;c__Verrucomicrobiae;o__Verrucomicrobiales;f__Verrucomicrobiaceae;g__Akkermansia</th>\n",
       "      <td>-1.0</td>\n",
       "      <td>NaN</td>\n",
       "      <td>NaN</td>\n",
       "      <td>NaN</td>\n",
       "      <td>NaN</td>\n",
       "      <td>NaN</td>\n",
       "    </tr>\n",
       "    <tr>\n",
       "      <th>k__Bacteria;p__Firmicutes;c__Clostridia;o__Clostridiales;f__Clostridiales_Incertae_Sedis_XI;g__Parvimonas</th>\n",
       "      <td>1.0</td>\n",
       "      <td>1.0</td>\n",
       "      <td>NaN</td>\n",
       "      <td>NaN</td>\n",
       "      <td>1.0</td>\n",
       "      <td>NaN</td>\n",
       "    </tr>\n",
       "    <tr>\n",
       "      <th>k__Bacteria;p__Firmicutes;c__Clostridia;o__Clostridiales;f__Clostridiales_Incertae_Sedis_XI;g__Peptoniphilus</th>\n",
       "      <td>1.0</td>\n",
       "      <td>NaN</td>\n",
       "      <td>NaN</td>\n",
       "      <td>NaN</td>\n",
       "      <td>NaN</td>\n",
       "      <td>NaN</td>\n",
       "    </tr>\n",
       "    <tr>\n",
       "      <th>k__Bacteria;p__Firmicutes;c__Clostridia;o__Clostridiales;f__Incertae_Sedis_XI;g__Murdochiella</th>\n",
       "      <td>-1.0</td>\n",
       "      <td>NaN</td>\n",
       "      <td>NaN</td>\n",
       "      <td>NaN</td>\n",
       "      <td>NaN</td>\n",
       "      <td>NaN</td>\n",
       "    </tr>\n",
       "  </tbody>\n",
       "</table>\n",
       "</div>"
      ],
      "text/plain": [
       "                                                    overall  crc  ob  ibd  \\\n",
       "k__Bacteria;p__Fusobacteria;c__Fusobacteriia;o_...      1.0  1.0 NaN  NaN   \n",
       "k__Bacteria;p__Verrucomicrobia;c__Verrucomicrob...     -1.0  NaN NaN  NaN   \n",
       "k__Bacteria;p__Firmicutes;c__Clostridia;o__Clos...      1.0  1.0 NaN  NaN   \n",
       "k__Bacteria;p__Firmicutes;c__Clostridia;o__Clos...      1.0  NaN NaN  NaN   \n",
       "k__Bacteria;p__Firmicutes;c__Clostridia;o__Clos...     -1.0  NaN NaN  NaN   \n",
       "\n",
       "                                                    cdi  hiv  \n",
       "k__Bacteria;p__Fusobacteria;c__Fusobacteriia;o_...  1.0  NaN  \n",
       "k__Bacteria;p__Verrucomicrobia;c__Verrucomicrob...  NaN  NaN  \n",
       "k__Bacteria;p__Firmicutes;c__Clostridia;o__Clos...  1.0  NaN  \n",
       "k__Bacteria;p__Firmicutes;c__Clostridia;o__Clos...  NaN  NaN  \n",
       "k__Bacteria;p__Firmicutes;c__Clostridia;o__Clos...  NaN  NaN  "
      ]
     },
     "execution_count": 49,
     "metadata": {},
     "output_type": "execute_result"
    }
   ],
   "source": [
    "allmeta = pd.merge(overall_meta, disease_meta, how='outer', left_index=True, right_index=True)\n",
    "#allmeta.dropna(how='all').head()"
   ]
  },
  {
   "cell_type": "code",
   "execution_count": 80,
   "metadata": {
    "collapsed": false
   },
   "outputs": [
    {
     "name": "stdout",
     "output_type": "stream",
     "text": [
      "4 bugs are both crc-associated and core\n",
      "5 bugs are both ob-associated and core\n",
      "5 bugs are both ibd-associated and core\n",
      "23 bugs are both cdi-associated and core\n",
      "0 bugs are both hiv-associated and core\n"
     ]
    }
   ],
   "source": [
    "dis = ['crc', 'ob', 'ibd', 'cdi', 'hiv']\n",
    "for d in dis:\n",
    "    n = sum(allmeta[d] == allmeta['overall'])\n",
    "    print('{} bugs are both {}-associated and core'.format(n, d))\n"
   ]
  },
  {
   "cell_type": "code",
   "execution_count": 81,
   "metadata": {
    "collapsed": false
   },
   "outputs": [
    {
     "name": "stdout",
     "output_type": "stream",
     "text": [
      "1 bugs are crc-associated but *not* core\n",
      "1 bugs are ob-associated but *not* core\n",
      "0 bugs are ibd-associated but *not* core\n",
      "12 bugs are cdi-associated but *not* core\n",
      "0 bugs are hiv-associated but *not* core\n"
     ]
    }
   ],
   "source": [
    "# This shows the number of genera which are both disease-associated and overall-associated for each of the diseases\n",
    "for d in dis:\n",
    "    tmp = allmeta[d].dropna()\n",
    "    n = sum(tmp != allmeta.loc[tmp.index, 'overall'])    \n",
    "    print('{} bugs are {}-associated but *not* core'.format(n, d))"
   ]
  },
  {
   "cell_type": "code",
   "execution_count": 86,
   "metadata": {
    "collapsed": false
   },
   "outputs": [
    {
     "name": "stdout",
     "output_type": "stream",
     "text": [
      "33 core bugs are not consistently associated with any one disease\n"
     ]
    }
   ],
   "source": [
    "# How about... how many bugs are overall-associated and *not* in any of these diseases?\n",
    "overall_bugs = allmeta.dropna(subset=['overall']).index\n",
    "disease_bugs = allmeta.dropna(subset=dis, how='all').index\n",
    "overall_not_disease = [i for i in n1 if i not in n2]\n",
    "print('{} core bugs are not consistently associated with any one disease'.format(len(overall_not_disease)))"
   ]
  },
  {
   "cell_type": "code",
   "execution_count": 89,
   "metadata": {
    "collapsed": false
   },
   "outputs": [],
   "source": [
    "# Now, of those 33 bugs... how many are significant in at least one diarrhea dataset?\n",
    "diar = pvals[[i for i in pvals if i.startswith('cdi') or i == 'edd_singh']]\n",
    "pthresh = 0.05\n",
    "sigmap = lambda x: np.sign(x) if abs(x) < pthresh else np.nan\n",
    "diar = diar.applymap(sigmap).dropna(how='all')\n",
    "#diar.head()"
   ]
  },
  {
   "cell_type": "code",
   "execution_count": 98,
   "metadata": {
    "collapsed": false
   },
   "outputs": [
    {
     "name": "stdout",
     "output_type": "stream",
     "text": [
      "54 core bugs are significant in at least one diarrhea dataset\n"
     ]
    }
   ],
   "source": [
    "overall_not_diar = [i for i in overall_bugs if i in diar.index]\n",
    "print('{} core bugs are significant in at least one diarrhea dataset'.format(len(overall_not_diar)))"
   ]
  },
  {
   "cell_type": "markdown",
   "metadata": {},
   "source": [
    "Summary:\n",
    "\n",
    "* there are 64 total \"core\" genera\n",
    "* 23 genera are both cdi-associated and core (i.e. sig in >= diarrhea datasets *and* in >= 2 diseases)\n",
    "* 12 genera are cdi-associated but **not** core (i.e. sig in >= 2 diarrhea datasets but not in >= 2 diseases)\n",
    "* 54/64 core genera are significant in at least one diarrhea dataset\n",
    "\n",
    "#### Take-away: yes, diarrhea bacteria are over-represented in the \"core\" response, but I think it's fine.\n",
    "\n",
    "You would expect that the bugs involved a total restructuring of the microbiome would be part of a \"core\" response to health and disease. Besides, it looks like there are still definitely core bacteria which are not associated in more than 2 diarrhea datasets. Furthermore, the \"percent overlap\" figure in the paper shows that our \"core\" bacteria do generalize across diseases..."
   ]
  },
  {
   "cell_type": "markdown",
   "metadata": {},
   "source": [
    "## Comment: more datasets?\n",
    "\n",
    "In terms of analysis, not that hard to include more datasets. Might be annoying to work into the paper...\n",
    "\n",
    "Here are the datasets I could possibly include (and why I haven't included them yet)\n",
    "\n",
    "* IBS, Saulnier - 22 IBS, 22 healthy (children, > 5 years old)\n",
    "    * http://www.sciencedirect.com/science/article/pii/S001650851100922X\n",
    "    * SRA data has disease metadata and raw data\n",
    "    * but there are multiple time points per patient, which aren't labeled (so I'd have to guess which is the first time point or randomly pick one sample per patient)\n",
    "    * **I should probably process this one...**\n",
    "* IBS, Jeffery - 37 IBS, 20 healthy\n",
    "    * I have the metadata and data from the author\n",
    "    * But the data is poorly organized and hard to figure out what's what (it's in S3)\n",
    "    * **I could definitely do this one, but it would take me half a day at least...**\n",
    "* IBS, Pozuelo - 113 IBS, 66 healthy\n",
    "    * Don't remember why I didn't process this one, looks like I have all the data...\n",
    "    * I think the disease metadata is a in pdf supplement or something.\n",
    "    * **I should probably process this one...**\n",
    "* IBS, Parthasarathy - 25 IBS-C, 25 controls (all women)\n",
    "    * also has BMI data\n",
    "    * data is in SRA, **could process**\n",
    "* OB, Murugesan - 81 normal, 29 overweight, and 80 obese children\n",
    "    * data is in SRA now, **could process**\n",
    "* OB, Yatsunenko - 531 people with BMI data, not sure breakdown by case/control\n",
    "    * Broke usearch so I hadn't processed it,\n",
    "    * I could process again with MIN_COUNT = 10 (I did this for ob_goodrich, actually)\n",
    "    * **I should probably process this one...**\n",
    "* T1D, Davis-Richardson - 29 T1D, 47 healthy\n",
    "    * This data was really bad, if we include it I think it will be with trim length = 101 bp, and losing lots of samples I think\n",
    "    * **I could probably process this, but not sure if it's worth it or if we trust the data...**\n",
    "* Metabolic syndrome, Stadlbauer - 15 MetS, 16 healthy\n",
    "    * Not sure if I have metadata\n",
    "    * Probably not worth it\n",
    "* Spinal cord injury - 30 SCI, 10 controls\n",
    "    * Have all the data, **could process**\n",
    "* breast cancer - 48 cancer, 48 controls\n",
    "    * Data is now in SRA, **could process**\n",
    "* and quite a few others which are probably on SRA now..."
   ]
  },
  {
   "cell_type": "markdown",
   "metadata": {},
   "source": [
    "## Comment: make a classifier based on core bugs\n",
    "\n",
    "Okay, I did this. Note that not every dataset has all of the core bugs present."
   ]
  },
  {
   "cell_type": "code",
   "execution_count": 42,
   "metadata": {
    "collapsed": false
   },
   "outputs": [
    {
     "data": {
      "text/html": [
       "<div>\n",
       "<table border=\"1\" class=\"dataframe\">\n",
       "  <thead>\n",
       "    <tr style=\"text-align: right;\">\n",
       "      <th></th>\n",
       "      <th>mean_fpr</th>\n",
       "      <th>mean_tpr</th>\n",
       "      <th>roc_auc</th>\n",
       "      <th>fisher_p</th>\n",
       "      <th>dataset</th>\n",
       "      <th>H_smpls</th>\n",
       "      <th>dis_smpls</th>\n",
       "      <th>num_features</th>\n",
       "    </tr>\n",
       "  </thead>\n",
       "  <tbody>\n",
       "    <tr>\n",
       "      <th>0</th>\n",
       "      <td>0.000000</td>\n",
       "      <td>0.54</td>\n",
       "      <td>0.804792</td>\n",
       "      <td>0.00737</td>\n",
       "      <td>mhe_zhang</td>\n",
       "      <td>25</td>\n",
       "      <td>46</td>\n",
       "      <td>33</td>\n",
       "    </tr>\n",
       "    <tr>\n",
       "      <th>1</th>\n",
       "      <td>0.010101</td>\n",
       "      <td>0.54</td>\n",
       "      <td>0.804792</td>\n",
       "      <td>0.00737</td>\n",
       "      <td>mhe_zhang</td>\n",
       "      <td>25</td>\n",
       "      <td>46</td>\n",
       "      <td>33</td>\n",
       "    </tr>\n",
       "    <tr>\n",
       "      <th>2</th>\n",
       "      <td>0.020202</td>\n",
       "      <td>0.54</td>\n",
       "      <td>0.804792</td>\n",
       "      <td>0.00737</td>\n",
       "      <td>mhe_zhang</td>\n",
       "      <td>25</td>\n",
       "      <td>46</td>\n",
       "      <td>33</td>\n",
       "    </tr>\n",
       "    <tr>\n",
       "      <th>3</th>\n",
       "      <td>0.030303</td>\n",
       "      <td>0.54</td>\n",
       "      <td>0.804792</td>\n",
       "      <td>0.00737</td>\n",
       "      <td>mhe_zhang</td>\n",
       "      <td>25</td>\n",
       "      <td>46</td>\n",
       "      <td>33</td>\n",
       "    </tr>\n",
       "    <tr>\n",
       "      <th>4</th>\n",
       "      <td>0.040404</td>\n",
       "      <td>0.54</td>\n",
       "      <td>0.804792</td>\n",
       "      <td>0.00737</td>\n",
       "      <td>mhe_zhang</td>\n",
       "      <td>25</td>\n",
       "      <td>46</td>\n",
       "      <td>33</td>\n",
       "    </tr>\n",
       "  </tbody>\n",
       "</table>\n",
       "</div>"
      ],
      "text/plain": [
       "   mean_fpr  mean_tpr   roc_auc  fisher_p    dataset  H_smpls  dis_smpls  \\\n",
       "0  0.000000      0.54  0.804792   0.00737  mhe_zhang       25         46   \n",
       "1  0.010101      0.54  0.804792   0.00737  mhe_zhang       25         46   \n",
       "2  0.020202      0.54  0.804792   0.00737  mhe_zhang       25         46   \n",
       "3  0.030303      0.54  0.804792   0.00737  mhe_zhang       25         46   \n",
       "4  0.040404      0.54  0.804792   0.00737  mhe_zhang       25         46   \n",
       "\n",
       "   num_features  \n",
       "0            33  \n",
       "1            33  \n",
       "2            33  \n",
       "3            33  \n",
       "4            33  "
      ]
     },
     "execution_count": 42,
     "metadata": {},
     "output_type": "execute_result"
    }
   ],
   "source": [
    "fn_rf_core = '../../data/analysis_results/rf_results.core_only.txt'\n",
    "fn_rf_all = '../../data/analysis_results/rf_results.txt'\n",
    "rf_all = pd.read_csv(fn_rf_all, sep='\\t')\n",
    "rf_core = pd.read_csv(fn_rf_core, sep='\\t')\n",
    "#rf_core.head()"
   ]
  },
  {
   "cell_type": "code",
   "execution_count": 43,
   "metadata": {
    "collapsed": false
   },
   "outputs": [
    {
     "data": {
      "text/html": [
       "<div>\n",
       "<table border=\"1\" class=\"dataframe\">\n",
       "  <thead>\n",
       "    <tr style=\"text-align: right;\">\n",
       "      <th></th>\n",
       "      <th>dataset</th>\n",
       "      <th>auc_all</th>\n",
       "      <th>auc_core</th>\n",
       "    </tr>\n",
       "  </thead>\n",
       "  <tbody>\n",
       "    <tr>\n",
       "      <th>0</th>\n",
       "      <td>mhe_zhang</td>\n",
       "      <td>0.801190</td>\n",
       "      <td>0.804792</td>\n",
       "    </tr>\n",
       "    <tr>\n",
       "      <th>1</th>\n",
       "      <td>hiv_noguerajulian</td>\n",
       "      <td>0.669463</td>\n",
       "      <td>0.670531</td>\n",
       "    </tr>\n",
       "    <tr>\n",
       "      <th>2</th>\n",
       "      <td>hiv_lozupone</td>\n",
       "      <td>0.923990</td>\n",
       "      <td>0.898990</td>\n",
       "    </tr>\n",
       "    <tr>\n",
       "      <th>3</th>\n",
       "      <td>t1d_alkanani</td>\n",
       "      <td>0.710606</td>\n",
       "      <td>0.725957</td>\n",
       "    </tr>\n",
       "    <tr>\n",
       "      <th>4</th>\n",
       "      <td>edd_singh</td>\n",
       "      <td>0.957783</td>\n",
       "      <td>0.952235</td>\n",
       "    </tr>\n",
       "  </tbody>\n",
       "</table>\n",
       "</div>"
      ],
      "text/plain": [
       "             dataset   auc_all  auc_core\n",
       "0          mhe_zhang  0.801190  0.804792\n",
       "1  hiv_noguerajulian  0.669463  0.670531\n",
       "2       hiv_lozupone  0.923990  0.898990\n",
       "3       t1d_alkanani  0.710606  0.725957\n",
       "4          edd_singh  0.957783  0.952235"
      ]
     },
     "execution_count": 43,
     "metadata": {},
     "output_type": "execute_result"
    }
   ],
   "source": [
    "rf_core = rf_core[['dataset', 'roc_auc']].drop_duplicates()\n",
    "rf_core.columns = ['dataset', 'auc_core']\n",
    "rf_all = rf_all[['dataset', 'roc_auc']].drop_duplicates()\n",
    "rf_all.columns = ['dataset', 'auc_all']\n",
    "rf_both = pd.merge(rf_all, rf_core)\n",
    "#rf_both.head()"
   ]
  },
  {
   "cell_type": "code",
   "execution_count": 44,
   "metadata": {
    "collapsed": false
   },
   "outputs": [
    {
     "data": {
      "text/html": [
       "<div>\n",
       "<table border=\"1\" class=\"dataframe\">\n",
       "  <thead>\n",
       "    <tr style=\"text-align: right;\">\n",
       "      <th></th>\n",
       "      <th>dataset</th>\n",
       "      <th>variable</th>\n",
       "      <th>value</th>\n",
       "    </tr>\n",
       "  </thead>\n",
       "  <tbody>\n",
       "    <tr>\n",
       "      <th>0</th>\n",
       "      <td>mhe_zhang</td>\n",
       "      <td>auc_all</td>\n",
       "      <td>0.801190</td>\n",
       "    </tr>\n",
       "    <tr>\n",
       "      <th>1</th>\n",
       "      <td>hiv_noguerajulian</td>\n",
       "      <td>auc_all</td>\n",
       "      <td>0.669463</td>\n",
       "    </tr>\n",
       "    <tr>\n",
       "      <th>2</th>\n",
       "      <td>hiv_lozupone</td>\n",
       "      <td>auc_all</td>\n",
       "      <td>0.923990</td>\n",
       "    </tr>\n",
       "    <tr>\n",
       "      <th>3</th>\n",
       "      <td>t1d_alkanani</td>\n",
       "      <td>auc_all</td>\n",
       "      <td>0.710606</td>\n",
       "    </tr>\n",
       "    <tr>\n",
       "      <th>4</th>\n",
       "      <td>edd_singh</td>\n",
       "      <td>auc_all</td>\n",
       "      <td>0.957783</td>\n",
       "    </tr>\n",
       "  </tbody>\n",
       "</table>\n",
       "</div>"
      ],
      "text/plain": [
       "             dataset variable     value\n",
       "0          mhe_zhang  auc_all  0.801190\n",
       "1  hiv_noguerajulian  auc_all  0.669463\n",
       "2       hiv_lozupone  auc_all  0.923990\n",
       "3       t1d_alkanani  auc_all  0.710606\n",
       "4          edd_singh  auc_all  0.957783"
      ]
     },
     "execution_count": 44,
     "metadata": {},
     "output_type": "execute_result"
    }
   ],
   "source": [
    "rf_both = pd.melt(rf_both, id_vars='dataset')\n",
    "#rf_both.head()"
   ]
  },
  {
   "cell_type": "code",
   "execution_count": 48,
   "metadata": {
    "collapsed": false
   },
   "outputs": [
    {
     "data": {
      "image/png": "[encoded data removed]",
      "text/plain": [
       "<matplotlib.figure.Figure at 0x11a9aaf50>"
      ]
     },
     "metadata": {},
     "output_type": "display_data"
    }
   ],
   "source": [
    "fig, ax = plt.subplots(figsize=(8,4))\n",
    "sns.barplot(x='dataset', y='value', hue='variable', data=rf_both, ax=ax)\n",
    "_ = ax.set_xticklabels(ax.get_xticklabels(), rotation=90)"
   ]
  },
  {
   "cell_type": "markdown",
   "metadata": {},
   "source": [
    "It works! Really well... another thing I could try is to look at what percent of each original classifier's top features are core bugs."
   ]
  },
  {
   "cell_type": "markdown",
   "metadata": {},
   "source": [
    "## Comment: 'core'-definining heuristic is not complicated enough\n",
    "\n",
    "Reviewer #1:\n",
    "\n",
    "> Similarly, we wondered how the authors could control for the variation in effect sizes when generating the list of core microbes? We would encourage something like a Z-transform like was used in the Sze and Schloss obesity meta-analysis\n",
    "\n",
    "Reviewer #2:\n",
    "\n",
    "> I did not think that the definition was rigorous enough. Can a genus that “is significantly enriched or depleted in at last one dataset from at least 2 different diseases)” really be considered a “core”?\n",
    "\n",
    "> Lines 325-327: the point is made that “Individual studies are plagued by low statistical power, confounding variables etc.” Isn’t that also a weakness of the analysis conducting here since you are just re-analyzing all of the original studies and seeing where they agree? One way to actually increase power would be to apply Fisher’s method"
   ]
  },
  {
   "cell_type": "code",
   "execution_count": 26,
   "metadata": {
    "collapsed": false
   },
   "outputs": [],
   "source": [
    "fn_core = '../../data/analysis_results/meta.counting.q-0.05.2_diseases.across_all_diseases.sig_ordered.txt'\n",
    "fn_stouffer = '../../data/analysis_results/meta.stouffer.q-0.05.across_all_diseases.txt'\n",
    "stouffer = pd.read_csv(fn_stouffer, sep='\\t')\n",
    "stouffer.columns = ['otu', 'stouffer_overall']\n",
    "core = pd.read_csv(fn_core, sep='\\t')\n",
    "core.columns = ['otu', 'core_overall']\n",
    "\n",
    "both = pd.merge(stouffer, core)\n",
    "both.index = both['otu']\n",
    "both = both[['stouffer_overall', 'core_overall']]\n",
    "# Re-order rows\n",
    "both = both.loc[both.sum(axis=1).sort_values(ascending=False).index]"
   ]
  },
  {
   "cell_type": "code",
   "execution_count": 27,
   "metadata": {
    "collapsed": false
   },
   "outputs": [
    {
     "data": {
      "text/html": [
       "<div>\n",
       "<table border=\"1\" class=\"dataframe\">\n",
       "  <thead>\n",
       "    <tr style=\"text-align: right;\">\n",
       "      <th></th>\n",
       "      <th>stouffer_overall</th>\n",
       "      <th>core_overall</th>\n",
       "    </tr>\n",
       "    <tr>\n",
       "      <th>otu</th>\n",
       "      <th></th>\n",
       "      <th></th>\n",
       "    </tr>\n",
       "  </thead>\n",
       "  <tbody>\n",
       "    <tr>\n",
       "      <th>k__Bacteria;p__Firmicutes;c__Clostridia;o__Clostridiales;f__Clostridiales_Incertae_Sedis_XIII;g__Mogibacterium</th>\n",
       "      <td>1.0</td>\n",
       "      <td>1.0</td>\n",
       "    </tr>\n",
       "    <tr>\n",
       "      <th>k__Bacteria;p__Proteobacteria;c__Gammaproteobacteria;o__Enterobacteriales;f__Enterobacteriaceae;g__Cronobacter</th>\n",
       "      <td>1.0</td>\n",
       "      <td>1.0</td>\n",
       "    </tr>\n",
       "    <tr>\n",
       "      <th>k__Bacteria;p__Firmicutes;c__Bacilli;o__Lactobacillales;f__Enterococcaceae;g__Enterococcus</th>\n",
       "      <td>1.0</td>\n",
       "      <td>1.0</td>\n",
       "    </tr>\n",
       "    <tr>\n",
       "      <th>k__Bacteria;p__Firmicutes;c__Bacilli;o__Lactobacillales;f__Lactobacillaceae;g__Lactobacillus</th>\n",
       "      <td>1.0</td>\n",
       "      <td>1.0</td>\n",
       "    </tr>\n",
       "    <tr>\n",
       "      <th>k__Bacteria;p__Firmicutes;c__Clostridia;o__Clostridiales;f__Peptostreptococcaceae;g__Peptostreptococcus</th>\n",
       "      <td>1.0</td>\n",
       "      <td>1.0</td>\n",
       "    </tr>\n",
       "  </tbody>\n",
       "</table>\n",
       "</div>"
      ],
      "text/plain": [
       "                                                    stouffer_overall  \\\n",
       "otu                                                                    \n",
       "k__Bacteria;p__Firmicutes;c__Clostridia;o__Clos...               1.0   \n",
       "k__Bacteria;p__Proteobacteria;c__Gammaproteobac...               1.0   \n",
       "k__Bacteria;p__Firmicutes;c__Bacilli;o__Lactoba...               1.0   \n",
       "k__Bacteria;p__Firmicutes;c__Bacilli;o__Lactoba...               1.0   \n",
       "k__Bacteria;p__Firmicutes;c__Clostridia;o__Clos...               1.0   \n",
       "\n",
       "                                                    core_overall  \n",
       "otu                                                               \n",
       "k__Bacteria;p__Firmicutes;c__Clostridia;o__Clos...           1.0  \n",
       "k__Bacteria;p__Proteobacteria;c__Gammaproteobac...           1.0  \n",
       "k__Bacteria;p__Firmicutes;c__Bacilli;o__Lactoba...           1.0  \n",
       "k__Bacteria;p__Firmicutes;c__Bacilli;o__Lactoba...           1.0  \n",
       "k__Bacteria;p__Firmicutes;c__Clostridia;o__Clos...           1.0  "
      ]
     },
     "execution_count": 27,
     "metadata": {},
     "output_type": "execute_result"
    }
   ],
   "source": [
    "both.dropna(how='all').head()"
   ]
  },
  {
   "cell_type": "code",
   "execution_count": 28,
   "metadata": {
    "collapsed": false
   },
   "outputs": [
    {
     "data": {
      "image/png": "[encoded data removed]",
      "text/plain": [
       "<matplotlib.figure.Figure at 0x11a05b510>"
      ]
     },
     "metadata": {},
     "output_type": "display_data"
    }
   ],
   "source": [
    "sns.set_style('white')\n",
    "fig, ax = plt.subplots()\n",
    "\n",
    "# Left column is Stouffer results, right column is heuristic\n",
    "cax = ax.imshow(both.dropna(how='all').values, interpolation='nearest',\n",
    "                        aspect='auto',\n",
    "                        cmap=sns.diverging_palette(220,20,as_cmap=True))"
   ]
  },
  {
   "cell_type": "markdown",
   "metadata": {},
   "source": [
    "Left column is the Stouffer results, right column is the heuristic results.\n",
    "\n",
    "Looks like they don't disagree: only one bug is conflicting. Other disagreements are just bugs that one method doesn't consider core but the other one does."
   ]
  },
  {
   "cell_type": "code",
   "execution_count": 34,
   "metadata": {
    "collapsed": false
   },
   "outputs": [
    {
     "data": {
      "text/html": [
       "<div>\n",
       "<table border=\"1\" class=\"dataframe\">\n",
       "  <thead>\n",
       "    <tr style=\"text-align: right;\">\n",
       "      <th></th>\n",
       "      <th>stouffer_overall</th>\n",
       "      <th>core_overall</th>\n",
       "    </tr>\n",
       "    <tr>\n",
       "      <th>otu</th>\n",
       "      <th></th>\n",
       "      <th></th>\n",
       "    </tr>\n",
       "  </thead>\n",
       "  <tbody>\n",
       "    <tr>\n",
       "      <th>k__Bacteria;p__Bacteroidetes;c__Bacteroidia;o__Bacteroidales;f__Porphyromonadaceae;g__Porphyromonas</th>\n",
       "      <td>-1.0</td>\n",
       "      <td>1.0</td>\n",
       "    </tr>\n",
       "  </tbody>\n",
       "</table>\n",
       "</div>"
      ],
      "text/plain": [
       "                                                    stouffer_overall  \\\n",
       "otu                                                                    \n",
       "k__Bacteria;p__Bacteroidetes;c__Bacteroidia;o__...              -1.0   \n",
       "\n",
       "                                                    core_overall  \n",
       "otu                                                               \n",
       "k__Bacteria;p__Bacteroidetes;c__Bacteroidia;o__...           1.0  "
      ]
     },
     "execution_count": 34,
     "metadata": {},
     "output_type": "execute_result"
    }
   ],
   "source": [
    "both[both.sum(axis=1) == 0].dropna()"
   ]
  },
  {
   "cell_type": "code",
   "execution_count": 35,
   "metadata": {
    "collapsed": false
   },
   "outputs": [
    {
     "data": {
      "text/html": [
       "<div>\n",
       "<table border=\"1\" class=\"dataframe\">\n",
       "  <thead>\n",
       "    <tr style=\"text-align: right;\">\n",
       "      <th></th>\n",
       "      <th>stouffer_overall</th>\n",
       "      <th>core_overall</th>\n",
       "    </tr>\n",
       "    <tr>\n",
       "      <th>otu</th>\n",
       "      <th></th>\n",
       "      <th></th>\n",
       "    </tr>\n",
       "  </thead>\n",
       "  <tbody>\n",
       "    <tr>\n",
       "      <th>k__Bacteria;p__Firmicutes;c__Clostridia;o__Clostridiales;f__Lachnospiraceae;g__Clostridium_XlVb</th>\n",
       "      <td>NaN</td>\n",
       "      <td>0.0</td>\n",
       "    </tr>\n",
       "    <tr>\n",
       "      <th>k__Bacteria;p__Firmicutes;c__Erysipelotrichia;o__Erysipelotrichales;f__Erysipelotrichaceae;g__Catenibacterium</th>\n",
       "      <td>NaN</td>\n",
       "      <td>0.0</td>\n",
       "    </tr>\n",
       "    <tr>\n",
       "      <th>k__Bacteria;p__Bacteroidetes;c__Bacteroidia;o__Bacteroidales;f__Prevotellaceae;g__Prevotella</th>\n",
       "      <td>NaN</td>\n",
       "      <td>0.0</td>\n",
       "    </tr>\n",
       "    <tr>\n",
       "      <th>k__Bacteria;p__Bacteroidetes;c__Bacteroidia;o__Bacteroidales;f__Rikenellaceae;g__Alistipes</th>\n",
       "      <td>-1.0</td>\n",
       "      <td>0.0</td>\n",
       "    </tr>\n",
       "    <tr>\n",
       "      <th>k__Bacteria;p__Firmicutes;c__Clostridia;o__Clostridiales;f__Ruminococcaceae;g__Flavonifractor</th>\n",
       "      <td>-1.0</td>\n",
       "      <td>0.0</td>\n",
       "    </tr>\n",
       "  </tbody>\n",
       "</table>\n",
       "</div>"
      ],
      "text/plain": [
       "                                                    stouffer_overall  \\\n",
       "otu                                                                    \n",
       "k__Bacteria;p__Firmicutes;c__Clostridia;o__Clos...               NaN   \n",
       "k__Bacteria;p__Firmicutes;c__Erysipelotrichia;o...               NaN   \n",
       "k__Bacteria;p__Bacteroidetes;c__Bacteroidia;o__...               NaN   \n",
       "k__Bacteria;p__Bacteroidetes;c__Bacteroidia;o__...              -1.0   \n",
       "k__Bacteria;p__Firmicutes;c__Clostridia;o__Clos...              -1.0   \n",
       "\n",
       "                                                    core_overall  \n",
       "otu                                                               \n",
       "k__Bacteria;p__Firmicutes;c__Clostridia;o__Clos...           0.0  \n",
       "k__Bacteria;p__Firmicutes;c__Erysipelotrichia;o...           0.0  \n",
       "k__Bacteria;p__Bacteroidetes;c__Bacteroidia;o__...           0.0  \n",
       "k__Bacteria;p__Bacteroidetes;c__Bacteroidia;o__...           0.0  \n",
       "k__Bacteria;p__Firmicutes;c__Clostridia;o__Clos...           0.0  "
      ]
     },
     "execution_count": 35,
     "metadata": {},
     "output_type": "execute_result"
    }
   ],
   "source": [
    "both.query('core_overall == 0')"
   ]
  },
  {
   "cell_type": "markdown",
   "metadata": {},
   "source": [
    "I think we can make a good argument that we *could* have used something more statistically complicated, but it doesn't get at what we really want. We want to find bacteria that respond to multiple *diseases* - so using Stouffer would only make sense if we first had a summary p-value for each of the diseases.\n",
    "\n",
    "Ironically, using Stouffer is more likely to predispose use to having CDI bugs overrepresented in the core bugs (I think - I could check I guess) because three small p-values in three diarrhea studies is probably enough to count as significant."
   ]
  },
  {
   "cell_type": "code",
   "execution_count": null,
   "metadata": {
    "collapsed": true
   },
   "outputs": [],
   "source": []
  }
 ],
 "metadata": {
  "anaconda-cloud": {},
  "kernelspec": {
   "display_name": "Python [conda root]",
   "language": "python",
   "name": "conda-root-py"
  },
  "language_info": {
   "codemirror_mode": {
    "name": "ipython",
    "version": 2
   },
   "file_extension": ".py",
   "mimetype": "text/x-python",
   "name": "python",
   "nbconvert_exporter": "python",
   "pygments_lexer": "ipython2",
   "version": "2.7.12"
  }
 },
 "nbformat": 4,
 "nbformat_minor": 2
}
