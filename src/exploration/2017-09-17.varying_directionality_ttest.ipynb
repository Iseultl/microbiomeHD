{
 "cells": [
  {
   "cell_type": "markdown",
   "metadata": {},
   "source": [
    "The purpose of this notebook is to do one last analysis to try to see if genera tend to vary in the same direction across different diseases.\n",
    "\n",
    "Rafa suggested doing something very simple: average effects for each disease, then do a t-test to see if the distribution of effects per genus is significantly different from zero.\n",
    "\n",
    "We could also do something slightly more complicated and included NaNs and use a multinomial. (But I'm not sure how you would average across diseases then... not sure how many genera are NaN within a disease)\n",
    "\n",
    "Anyway, let's see.\n"
   ]
  },
  {
   "cell_type": "code",
   "execution_count": 1,
   "metadata": {
    "collapsed": true
   },
   "outputs": [],
   "source": [
    "import pandas as pd\n",
    "\n",
    "import matplotlib.pyplot as plt\n",
    "import seaborn as sns\n",
    "%matplotlib inline"
   ]
  },
  {
   "cell_type": "code",
   "execution_count": 81,
   "metadata": {
    "collapsed": true
   },
   "outputs": [],
   "source": [
    "from scipy.stats import ttest_1samp\n",
    "from statsmodels.sandbox.stats.multicomp import multipletests"
   ]
  },
  {
   "cell_type": "code",
   "execution_count": 10,
   "metadata": {
    "collapsed": false
   },
   "outputs": [
    {
     "data": {
      "text/html": [
       "<div>\n",
       "<table border=\"1\" class=\"dataframe\">\n",
       "  <thead>\n",
       "    <tr style=\"text-align: right;\">\n",
       "      <th></th>\n",
       "      <th>cdi_youngster</th>\n",
       "      <th>hiv_noguerajulian</th>\n",
       "      <th>hiv_lozupone</th>\n",
       "      <th>t1d_alkanani</th>\n",
       "      <th>cdi_singh</th>\n",
       "      <th>asd_son</th>\n",
       "      <th>crc_zeller</th>\n",
       "      <th>liv_zhang</th>\n",
       "      <th>ibd_papa</th>\n",
       "      <th>ob_zhu</th>\n",
       "      <th>...</th>\n",
       "      <th>crc_chen</th>\n",
       "      <th>ob_goodrich</th>\n",
       "      <th>hiv_dinh</th>\n",
       "      <th>cdi_schubert2</th>\n",
       "      <th>ibd_morgan</th>\n",
       "      <th>ob_zupancic</th>\n",
       "      <th>ob_turnbaugh</th>\n",
       "      <th>t1d_mejialeon</th>\n",
       "      <th>ibd_willing</th>\n",
       "      <th>nash_wong</th>\n",
       "    </tr>\n",
       "  </thead>\n",
       "  <tbody>\n",
       "    <tr>\n",
       "      <th>k__Bacteria;p__Fusobacteria;c__Fusobacteriia;o__Fusobacteriales;f__Fusobacteriaceae;g__Fusobacterium</th>\n",
       "      <td>10.356049</td>\n",
       "      <td>0.423552</td>\n",
       "      <td>0.662429</td>\n",
       "      <td>NaN</td>\n",
       "      <td>5.222960</td>\n",
       "      <td>NaN</td>\n",
       "      <td>1.271690</td>\n",
       "      <td>3.470789</td>\n",
       "      <td>10.356049</td>\n",
       "      <td>10.356049</td>\n",
       "      <td>...</td>\n",
       "      <td>1.532649</td>\n",
       "      <td>3.761708</td>\n",
       "      <td>4.114671</td>\n",
       "      <td>5.263545</td>\n",
       "      <td>NaN</td>\n",
       "      <td>NaN</td>\n",
       "      <td>NaN</td>\n",
       "      <td>0.753039</td>\n",
       "      <td>5.532374</td>\n",
       "      <td>0.203231</td>\n",
       "    </tr>\n",
       "    <tr>\n",
       "      <th>k__Bacteria;p__Fusobacteria;c__Fusobacteriia;o__Fusobacteriales;f__Fusobacteriaceae;g__Cetobacterium</th>\n",
       "      <td>NaN</td>\n",
       "      <td>NaN</td>\n",
       "      <td>5.871373</td>\n",
       "      <td>NaN</td>\n",
       "      <td>10.356049</td>\n",
       "      <td>NaN</td>\n",
       "      <td>NaN</td>\n",
       "      <td>NaN</td>\n",
       "      <td>NaN</td>\n",
       "      <td>10.356049</td>\n",
       "      <td>...</td>\n",
       "      <td>NaN</td>\n",
       "      <td>NaN</td>\n",
       "      <td>NaN</td>\n",
       "      <td>NaN</td>\n",
       "      <td>NaN</td>\n",
       "      <td>NaN</td>\n",
       "      <td>NaN</td>\n",
       "      <td>NaN</td>\n",
       "      <td>NaN</td>\n",
       "      <td>NaN</td>\n",
       "    </tr>\n",
       "    <tr>\n",
       "      <th>k__Bacteria;p__Lentisphaerae;c__Lentisphaeria;o__Victivallales;f__Victivallaceae;g__Victivallis</th>\n",
       "      <td>10.356049</td>\n",
       "      <td>0.885772</td>\n",
       "      <td>3.075544</td>\n",
       "      <td>NaN</td>\n",
       "      <td>-4.377625</td>\n",
       "      <td>0.069582</td>\n",
       "      <td>0.963358</td>\n",
       "      <td>NaN</td>\n",
       "      <td>NaN</td>\n",
       "      <td>NaN</td>\n",
       "      <td>...</td>\n",
       "      <td>NaN</td>\n",
       "      <td>-1.031472</td>\n",
       "      <td>NaN</td>\n",
       "      <td>-2.996785</td>\n",
       "      <td>NaN</td>\n",
       "      <td>NaN</td>\n",
       "      <td>NaN</td>\n",
       "      <td>10.356049</td>\n",
       "      <td>NaN</td>\n",
       "      <td>NaN</td>\n",
       "    </tr>\n",
       "    <tr>\n",
       "      <th>k__Bacteria;p__Lentisphaerae;c__Oligosphaeria;o__Oligosphaerales;f__Oligosphaeraceae;g__Oligosphaera</th>\n",
       "      <td>NaN</td>\n",
       "      <td>-1.825743</td>\n",
       "      <td>NaN</td>\n",
       "      <td>NaN</td>\n",
       "      <td>NaN</td>\n",
       "      <td>NaN</td>\n",
       "      <td>NaN</td>\n",
       "      <td>NaN</td>\n",
       "      <td>NaN</td>\n",
       "      <td>NaN</td>\n",
       "      <td>...</td>\n",
       "      <td>NaN</td>\n",
       "      <td>NaN</td>\n",
       "      <td>NaN</td>\n",
       "      <td>NaN</td>\n",
       "      <td>NaN</td>\n",
       "      <td>NaN</td>\n",
       "      <td>NaN</td>\n",
       "      <td>NaN</td>\n",
       "      <td>NaN</td>\n",
       "      <td>NaN</td>\n",
       "    </tr>\n",
       "    <tr>\n",
       "      <th>k__Bacteria;p__Verrucomicrobia;c__Opitutae;o__Puniceicoccales;f__Puniceicoccaceae;g__Coraliomargarita</th>\n",
       "      <td>NaN</td>\n",
       "      <td>-1.346087</td>\n",
       "      <td>NaN</td>\n",
       "      <td>NaN</td>\n",
       "      <td>NaN</td>\n",
       "      <td>-0.420719</td>\n",
       "      <td>NaN</td>\n",
       "      <td>NaN</td>\n",
       "      <td>NaN</td>\n",
       "      <td>NaN</td>\n",
       "      <td>...</td>\n",
       "      <td>NaN</td>\n",
       "      <td>NaN</td>\n",
       "      <td>NaN</td>\n",
       "      <td>NaN</td>\n",
       "      <td>NaN</td>\n",
       "      <td>NaN</td>\n",
       "      <td>NaN</td>\n",
       "      <td>NaN</td>\n",
       "      <td>NaN</td>\n",
       "      <td>NaN</td>\n",
       "    </tr>\n",
       "  </tbody>\n",
       "</table>\n",
       "<p>5 rows × 30 columns</p>\n",
       "</div>"
      ],
      "text/plain": [
       "                                                    cdi_youngster  \\\n",
       "k__Bacteria;p__Fusobacteria;c__Fusobacteriia;o_...      10.356049   \n",
       "k__Bacteria;p__Fusobacteria;c__Fusobacteriia;o_...            NaN   \n",
       "k__Bacteria;p__Lentisphaerae;c__Lentisphaeria;o...      10.356049   \n",
       "k__Bacteria;p__Lentisphaerae;c__Oligosphaeria;o...            NaN   \n",
       "k__Bacteria;p__Verrucomicrobia;c__Opitutae;o__P...            NaN   \n",
       "\n",
       "                                                    hiv_noguerajulian  \\\n",
       "k__Bacteria;p__Fusobacteria;c__Fusobacteriia;o_...           0.423552   \n",
       "k__Bacteria;p__Fusobacteria;c__Fusobacteriia;o_...                NaN   \n",
       "k__Bacteria;p__Lentisphaerae;c__Lentisphaeria;o...           0.885772   \n",
       "k__Bacteria;p__Lentisphaerae;c__Oligosphaeria;o...          -1.825743   \n",
       "k__Bacteria;p__Verrucomicrobia;c__Opitutae;o__P...          -1.346087   \n",
       "\n",
       "                                                    hiv_lozupone  \\\n",
       "k__Bacteria;p__Fusobacteria;c__Fusobacteriia;o_...      0.662429   \n",
       "k__Bacteria;p__Fusobacteria;c__Fusobacteriia;o_...      5.871373   \n",
       "k__Bacteria;p__Lentisphaerae;c__Lentisphaeria;o...      3.075544   \n",
       "k__Bacteria;p__Lentisphaerae;c__Oligosphaeria;o...           NaN   \n",
       "k__Bacteria;p__Verrucomicrobia;c__Opitutae;o__P...           NaN   \n",
       "\n",
       "                                                    t1d_alkanani  cdi_singh  \\\n",
       "k__Bacteria;p__Fusobacteria;c__Fusobacteriia;o_...           NaN   5.222960   \n",
       "k__Bacteria;p__Fusobacteria;c__Fusobacteriia;o_...           NaN  10.356049   \n",
       "k__Bacteria;p__Lentisphaerae;c__Lentisphaeria;o...           NaN  -4.377625   \n",
       "k__Bacteria;p__Lentisphaerae;c__Oligosphaeria;o...           NaN        NaN   \n",
       "k__Bacteria;p__Verrucomicrobia;c__Opitutae;o__P...           NaN        NaN   \n",
       "\n",
       "                                                     asd_son  crc_zeller  \\\n",
       "k__Bacteria;p__Fusobacteria;c__Fusobacteriia;o_...       NaN    1.271690   \n",
       "k__Bacteria;p__Fusobacteria;c__Fusobacteriia;o_...       NaN         NaN   \n",
       "k__Bacteria;p__Lentisphaerae;c__Lentisphaeria;o...  0.069582    0.963358   \n",
       "k__Bacteria;p__Lentisphaerae;c__Oligosphaeria;o...       NaN         NaN   \n",
       "k__Bacteria;p__Verrucomicrobia;c__Opitutae;o__P... -0.420719         NaN   \n",
       "\n",
       "                                                    liv_zhang   ibd_papa  \\\n",
       "k__Bacteria;p__Fusobacteria;c__Fusobacteriia;o_...   3.470789  10.356049   \n",
       "k__Bacteria;p__Fusobacteria;c__Fusobacteriia;o_...        NaN        NaN   \n",
       "k__Bacteria;p__Lentisphaerae;c__Lentisphaeria;o...        NaN        NaN   \n",
       "k__Bacteria;p__Lentisphaerae;c__Oligosphaeria;o...        NaN        NaN   \n",
       "k__Bacteria;p__Verrucomicrobia;c__Opitutae;o__P...        NaN        NaN   \n",
       "\n",
       "                                                       ob_zhu    ...      \\\n",
       "k__Bacteria;p__Fusobacteria;c__Fusobacteriia;o_...  10.356049    ...       \n",
       "k__Bacteria;p__Fusobacteria;c__Fusobacteriia;o_...  10.356049    ...       \n",
       "k__Bacteria;p__Lentisphaerae;c__Lentisphaeria;o...        NaN    ...       \n",
       "k__Bacteria;p__Lentisphaerae;c__Oligosphaeria;o...        NaN    ...       \n",
       "k__Bacteria;p__Verrucomicrobia;c__Opitutae;o__P...        NaN    ...       \n",
       "\n",
       "                                                    crc_chen  ob_goodrich  \\\n",
       "k__Bacteria;p__Fusobacteria;c__Fusobacteriia;o_...  1.532649     3.761708   \n",
       "k__Bacteria;p__Fusobacteria;c__Fusobacteriia;o_...       NaN          NaN   \n",
       "k__Bacteria;p__Lentisphaerae;c__Lentisphaeria;o...       NaN    -1.031472   \n",
       "k__Bacteria;p__Lentisphaerae;c__Oligosphaeria;o...       NaN          NaN   \n",
       "k__Bacteria;p__Verrucomicrobia;c__Opitutae;o__P...       NaN          NaN   \n",
       "\n",
       "                                                    hiv_dinh  cdi_schubert2  \\\n",
       "k__Bacteria;p__Fusobacteria;c__Fusobacteriia;o_...  4.114671       5.263545   \n",
       "k__Bacteria;p__Fusobacteria;c__Fusobacteriia;o_...       NaN            NaN   \n",
       "k__Bacteria;p__Lentisphaerae;c__Lentisphaeria;o...       NaN      -2.996785   \n",
       "k__Bacteria;p__Lentisphaerae;c__Oligosphaeria;o...       NaN            NaN   \n",
       "k__Bacteria;p__Verrucomicrobia;c__Opitutae;o__P...       NaN            NaN   \n",
       "\n",
       "                                                    ibd_morgan  ob_zupancic  \\\n",
       "k__Bacteria;p__Fusobacteria;c__Fusobacteriia;o_...         NaN          NaN   \n",
       "k__Bacteria;p__Fusobacteria;c__Fusobacteriia;o_...         NaN          NaN   \n",
       "k__Bacteria;p__Lentisphaerae;c__Lentisphaeria;o...         NaN          NaN   \n",
       "k__Bacteria;p__Lentisphaerae;c__Oligosphaeria;o...         NaN          NaN   \n",
       "k__Bacteria;p__Verrucomicrobia;c__Opitutae;o__P...         NaN          NaN   \n",
       "\n",
       "                                                    ob_turnbaugh  \\\n",
       "k__Bacteria;p__Fusobacteria;c__Fusobacteriia;o_...           NaN   \n",
       "k__Bacteria;p__Fusobacteria;c__Fusobacteriia;o_...           NaN   \n",
       "k__Bacteria;p__Lentisphaerae;c__Lentisphaeria;o...           NaN   \n",
       "k__Bacteria;p__Lentisphaerae;c__Oligosphaeria;o...           NaN   \n",
       "k__Bacteria;p__Verrucomicrobia;c__Opitutae;o__P...           NaN   \n",
       "\n",
       "                                                    t1d_mejialeon  \\\n",
       "k__Bacteria;p__Fusobacteria;c__Fusobacteriia;o_...       0.753039   \n",
       "k__Bacteria;p__Fusobacteria;c__Fusobacteriia;o_...            NaN   \n",
       "k__Bacteria;p__Lentisphaerae;c__Lentisphaeria;o...      10.356049   \n",
       "k__Bacteria;p__Lentisphaerae;c__Oligosphaeria;o...            NaN   \n",
       "k__Bacteria;p__Verrucomicrobia;c__Opitutae;o__P...            NaN   \n",
       "\n",
       "                                                    ibd_willing  nash_wong  \n",
       "k__Bacteria;p__Fusobacteria;c__Fusobacteriia;o_...     5.532374   0.203231  \n",
       "k__Bacteria;p__Fusobacteria;c__Fusobacteriia;o_...          NaN        NaN  \n",
       "k__Bacteria;p__Lentisphaerae;c__Lentisphaeria;o...          NaN        NaN  \n",
       "k__Bacteria;p__Lentisphaerae;c__Oligosphaeria;o...          NaN        NaN  \n",
       "k__Bacteria;p__Verrucomicrobia;c__Opitutae;o__P...          NaN        NaN  \n",
       "\n",
       "[5 rows x 30 columns]"
      ]
     },
     "execution_count": 10,
     "metadata": {},
     "output_type": "execute_result"
    }
   ],
   "source": [
    "# Note: this file has effects calculated only for genera which were sig in at least one study.\n",
    "# May want to change this later.\n",
    "feffects = '../../data/analysis_results/qvalues.mean.kruskal-wallis.case-control.log2change.sig_ordered.txt'\n",
    "\n",
    "df = pd.read_csv(feffects, sep='\\t', index_col=0)\n",
    "df = df.rename(columns={'edd_singh': 'cdi_singh', 'noncdi_schubert': 'cdi_schubert2'})\n",
    "df.head()"
   ]
  },
  {
   "cell_type": "markdown",
   "metadata": {},
   "source": [
    "### Average effects across diseases"
   ]
  },
  {
   "cell_type": "code",
   "execution_count": 11,
   "metadata": {
    "collapsed": true
   },
   "outputs": [],
   "source": [
    "# Let's first melt this dataframe, to make these operations easier\n",
    "\n",
    "melted = pd.melt?"
   ]
  },
  {
   "cell_type": "code",
   "execution_count": 18,
   "metadata": {
    "collapsed": false
   },
   "outputs": [],
   "source": [
    "melted = pd.melt(df.reset_index(), id_vars='index', var_name='dataset', value_name='effect').dropna()\n",
    "#melted.head()"
   ]
  },
  {
   "cell_type": "code",
   "execution_count": 19,
   "metadata": {
    "collapsed": false
   },
   "outputs": [
    {
     "data": {
      "text/html": [
       "<div>\n",
       "<table border=\"1\" class=\"dataframe\">\n",
       "  <thead>\n",
       "    <tr style=\"text-align: right;\">\n",
       "      <th></th>\n",
       "      <th>genus</th>\n",
       "      <th>dataset</th>\n",
       "      <th>effect</th>\n",
       "      <th>disease</th>\n",
       "    </tr>\n",
       "  </thead>\n",
       "  <tbody>\n",
       "    <tr>\n",
       "      <th>0</th>\n",
       "      <td>k__Bacteria;p__Fusobacteria;c__Fusobacteriia;o...</td>\n",
       "      <td>cdi_youngster</td>\n",
       "      <td>10.356049</td>\n",
       "      <td>cdi</td>\n",
       "    </tr>\n",
       "    <tr>\n",
       "      <th>2</th>\n",
       "      <td>k__Bacteria;p__Lentisphaerae;c__Lentisphaeria;...</td>\n",
       "      <td>cdi_youngster</td>\n",
       "      <td>10.356049</td>\n",
       "      <td>cdi</td>\n",
       "    </tr>\n",
       "    <tr>\n",
       "      <th>5</th>\n",
       "      <td>k__Bacteria;p__Verrucomicrobia;c__Verrucomicro...</td>\n",
       "      <td>cdi_youngster</td>\n",
       "      <td>6.782807</td>\n",
       "      <td>cdi</td>\n",
       "    </tr>\n",
       "    <tr>\n",
       "      <th>6</th>\n",
       "      <td>k__Bacteria;p__Firmicutes;c__Clostridia;o__Clo...</td>\n",
       "      <td>cdi_youngster</td>\n",
       "      <td>10.356049</td>\n",
       "      <td>cdi</td>\n",
       "    </tr>\n",
       "    <tr>\n",
       "      <th>7</th>\n",
       "      <td>k__Bacteria;p__Firmicutes;c__Clostridia;o__Clo...</td>\n",
       "      <td>cdi_youngster</td>\n",
       "      <td>10.356049</td>\n",
       "      <td>cdi</td>\n",
       "    </tr>\n",
       "  </tbody>\n",
       "</table>\n",
       "</div>"
      ],
      "text/plain": [
       "                                               genus        dataset  \\\n",
       "0  k__Bacteria;p__Fusobacteria;c__Fusobacteriia;o...  cdi_youngster   \n",
       "2  k__Bacteria;p__Lentisphaerae;c__Lentisphaeria;...  cdi_youngster   \n",
       "5  k__Bacteria;p__Verrucomicrobia;c__Verrucomicro...  cdi_youngster   \n",
       "6  k__Bacteria;p__Firmicutes;c__Clostridia;o__Clo...  cdi_youngster   \n",
       "7  k__Bacteria;p__Firmicutes;c__Clostridia;o__Clo...  cdi_youngster   \n",
       "\n",
       "      effect disease  \n",
       "0  10.356049     cdi  \n",
       "2  10.356049     cdi  \n",
       "5   6.782807     cdi  \n",
       "6  10.356049     cdi  \n",
       "7  10.356049     cdi  "
      ]
     },
     "execution_count": 19,
     "metadata": {},
     "output_type": "execute_result"
    }
   ],
   "source": [
    "melted = melted.rename(columns={'index': 'genus'})\n",
    "melted['disease'] = melted['dataset'].str.split('_').str[0]\n",
    "melted.head()"
   ]
  },
  {
   "cell_type": "code",
   "execution_count": 49,
   "metadata": {
    "collapsed": false
   },
   "outputs": [],
   "source": [
    "diseffects = melted.groupby(['genus', 'disease']).mean().reset_index()"
   ]
  },
  {
   "cell_type": "code",
   "execution_count": 87,
   "metadata": {
    "collapsed": false
   },
   "outputs": [],
   "source": [
    "pvals = []\n",
    "for g, subdf in diseffects.groupby('genus'):\n",
    "    # If the genus is in at least 3 different diseases\n",
    "    if subdf.shape[0] > 4:\n",
    "        pvals.append([g, ttest_1samp(subdf['effect'].values, 0)[1]])\n"
   ]
  },
  {
   "cell_type": "code",
   "execution_count": 88,
   "metadata": {
    "collapsed": true
   },
   "outputs": [],
   "source": [
    "res = pd.DataFrame(data=pvals, columns=['genus', 'p'])"
   ]
  },
  {
   "cell_type": "code",
   "execution_count": 89,
   "metadata": {
    "collapsed": false
   },
   "outputs": [],
   "source": [
    "res['q'] = multipletests(res['p'])[1]"
   ]
  },
  {
   "cell_type": "code",
   "execution_count": 90,
   "metadata": {
    "collapsed": false
   },
   "outputs": [
    {
     "data": {
      "text/plain": [
       "(array([   3.,    2.,    1.,    2.,    3.,    0.,    2.,    0.,    2.,  102.]),\n",
       " array([ 0.22847912,  0.30563121,  0.3827833 ,  0.45993539,  0.53708747,\n",
       "         0.61423956,  0.69139165,  0.76854374,  0.84569582,  0.92284791,  1.        ]),\n",
       " <a list of 10 Patch objects>)"
      ]
     },
     "execution_count": 90,
     "metadata": {},
     "output_type": "execute_result"
    },
    {
     "data": {
      "image/png": "[encoded data removed]",
      "text/plain": [
       "<matplotlib.figure.Figure at 0x118018050>"
      ]
     },
     "metadata": {},
     "output_type": "display_data"
    }
   ],
   "source": [
    "plt.hist(res.sort_values(by='q')['q'])"
   ]
  },
  {
   "cell_type": "code",
   "execution_count": null,
   "metadata": {
    "collapsed": true
   },
   "outputs": [],
   "source": []
  }
 ],
 "metadata": {
  "anaconda-cloud": {},
  "kernelspec": {
   "display_name": "Python [default]",
   "language": "python",
   "name": "python2"
  },
  "language_info": {
   "codemirror_mode": {
    "name": "ipython",
    "version": 2
   },
   "file_extension": ".py",
   "mimetype": "text/x-python",
   "name": "python",
   "nbconvert_exporter": "python",
   "pygments_lexer": "ipython2",
   "version": "2.7.12"
  }
 },
 "nbformat": 4,
 "nbformat_minor": 2
}
