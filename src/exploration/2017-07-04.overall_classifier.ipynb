{
 "cells": [
  {
   "cell_type": "markdown",
   "metadata": {},
   "source": [
    "This notebook is an exploration of how to best code up the \"overall\" classifier, that classifies healthy from disease (regardless of disease)"
   ]
  },
  {
   "cell_type": "code",
   "execution_count": 2,
   "metadata": {
    "collapsed": true
   },
   "outputs": [],
   "source": [
    "import os\n",
    "import sys\n",
    "import pandas as pd\n",
    "import numpy as np\n",
    "\n",
    "from sklearn.metrics import roc_curve, auc\n",
    "\n",
    "import matplotlib.pyplot as plt\n",
    "%matplotlib inline\n",
    "import seaborn as sns\n",
    "\n",
    "from IPython.display import display\n",
    "\n",
    "# Add util to the path\n",
    "src_dir = os.path.normpath(os.path.join(os.getcwd(), '../util'))\n",
    "sys.path.insert(0, src_dir)\n",
    "import FileIO as fio\n",
    "from util import collapse_taxonomic_contents_df, prep_classifier, cv_and_roc\n"
   ]
  },
  {
   "cell_type": "markdown",
   "metadata": {},
   "source": [
    "The plan:\n",
    "\n",
    "1. Read in all dataframes, rel abundance, collapse to genus\n",
    "1. If dataframe has *Healthy* samples, keep for concatenation\n",
    "1. Concatenate all dataframes - OTU and metadata\n",
    "1. Query Healthy patients and not-healthy patients\n",
    "1. Classify\n",
    "    - make sure to keep classification labels\n",
    "1. Visualize results"
   ]
  },
  {
   "cell_type": "code",
   "execution_count": 2,
   "metadata": {
    "collapsed": false
   },
   "outputs": [
    {
     "name": "stdout",
     "output_type": "stream",
     "text": [
      "Reading datasets...\n",
      "cdi_youngster hiv_noguerajulian hiv_lozupone t1d_alkanani edd_singh asd_son crc_zeller ra_scher ibd_papa ob_zhu crc_baxter cdi_schubert par_scheperjans crc_wang ibd_gevers nash_zhu cdi_vincent ob_ross asd_kang mhe_zhang crc_chen ob_turnbaugh hiv_dinh crc_zackular ibd_morgan ob_zupancic ob_goodrich t1d_mejialeon ibd_willing nash_wong \n",
      "Reading datasets... Finished.\n"
     ]
    }
   ],
   "source": [
    "datadir = '../../data/clean_tables'\n",
    "# Read in dfdict\n",
    "dfdict = fio.read_dfdict_data(datadir)"
   ]
  },
  {
   "cell_type": "code",
   "execution_count": 3,
   "metadata": {
    "collapsed": false
   },
   "outputs": [],
   "source": [
    "# Collapse to genus level and relabel samples\n",
    "for dataset in dfdict:\n",
    "    # Collapse to genus level and relabel samples with dataset ID\n",
    "    df = dfdict[dataset]['df']\n",
    "    df = collapse_taxonomic_contents_df(df, 'genus')\n",
    "    df.index = [dataset + '-' + i for i in df.index]\n",
    "    dfdict[dataset]['df'] = df\n",
    "    \n",
    "    # Also relabel indices in metadata\n",
    "    meta = dfdict[dataset]['meta']\n",
    "    meta.index = [dataset + '-' + i for i in meta.index]\n",
    "    dfdict[dataset]['meta'] = meta"
   ]
  },
  {
   "cell_type": "code",
   "execution_count": 4,
   "metadata": {
    "collapsed": false
   },
   "outputs": [
    {
     "name": "stdout",
     "output_type": "stream",
     "text": [
      "(4366, 304)\n"
     ]
    }
   ],
   "source": [
    "# Concatenate OTU tables and corresponding metadata\n",
    "ignore_datasets = [d for d in dfdict if 'H' not in dfdict[d]['meta']['DiseaseState'].unique()]\n",
    "# This data is a duplicate of nash_zhu\n",
    "ignore_datasets += ['ob_zhu']\n",
    "bigdf = pd.concat([dfdict[d]['df'] for d in dfdict if d not in ignore_datasets])\n",
    "# Fill NaN's with zeros (i.e. unobserved OTUs)\n",
    "bigdf = bigdf.fillna(0.0)\n",
    "bigmeta = pd.concat([dfdict[d]['meta'] for d in dfdict if d not in ignore_datasets])\n",
    "print(bigdf.shape)"
   ]
  },
  {
   "cell_type": "code",
   "execution_count": 5,
   "metadata": {
    "collapsed": false
   },
   "outputs": [],
   "source": [
    "# excludes: 'postFMT_CDI', None, ' '\n",
    "diseases = ['CIRR', 'MHE', 'HIV', 'T1D', 'EDD', 'CRC', 'ASD', 'CDI',\n",
    "            'PSA', 'RA', 'OB', 'OB-NASH', 'nonCRC', 'OW',\n",
    "            'nonCDI', 'PAR', 'CD', 'UC', 'nonNASH-OB', 'NASH']\n",
    "classes_list = [['H'], diseases]\n",
    "[h_smpls, dis_smpls] = fio.get_samples(bigmeta, classes_list)"
   ]
  },
  {
   "cell_type": "code",
   "execution_count": 6,
   "metadata": {
    "collapsed": false
   },
   "outputs": [
    {
     "name": "stdout",
     "output_type": "stream",
     "text": [
      "(1636, 2597)\n"
     ]
    }
   ],
   "source": [
    "print(len(h_smpls), len(dis_smpls))"
   ]
  },
  {
   "cell_type": "code",
   "execution_count": 7,
   "metadata": {
    "collapsed": false
   },
   "outputs": [
    {
     "data": {
      "text/plain": [
       "array(['H'], dtype=object)"
      ]
     },
     "execution_count": 7,
     "metadata": {},
     "output_type": "execute_result"
    }
   ],
   "source": [
    "bigmeta.loc[h_smpls, 'DiseaseState'].unique()"
   ]
  },
  {
   "cell_type": "code",
   "execution_count": 8,
   "metadata": {
    "collapsed": false
   },
   "outputs": [
    {
     "data": {
      "text/plain": [
       "array(['CIRR', 'MHE', 'HIV', 'T1D', 'EDD', 'CRC', 'ASD', 'CDI', 'PSA',\n",
       "       'RA', 'nonCRC', 'OB', 'OW', 'nonCDI', 'PAR', 'CD', 'UC',\n",
       "       'nonNASH-OB', 'NASH'], dtype=object)"
      ]
     },
     "execution_count": 8,
     "metadata": {},
     "output_type": "execute_result"
    }
   ],
   "source": [
    "bigmeta.loc[dis_smpls, 'DiseaseState'].unique()"
   ]
  },
  {
   "cell_type": "code",
   "execution_count": 9,
   "metadata": {
    "collapsed": false
   },
   "outputs": [],
   "source": [
    "random_state = 12345\n",
    "rf, X, Y = prep_classifier(bigdf, h_smpls, dis_smpls, random_state)"
   ]
  },
  {
   "cell_type": "code",
   "execution_count": 10,
   "metadata": {
    "collapsed": false
   },
   "outputs": [],
   "source": [
    "results = cv_and_roc(rf, X, Y, num_cv=100, random_state=random_state)"
   ]
  },
  {
   "cell_type": "code",
   "execution_count": 11,
   "metadata": {
    "collapsed": false
   },
   "outputs": [
    {
     "data": {
      "text/plain": [
       "['y_true',\n",
       " 'y_prob',\n",
       " 'mean_tpr',\n",
       " 'mean_fpr',\n",
       " 'test_fold',\n",
       " 'conf_mat',\n",
       " 'fisher_p',\n",
       " 'roc_auc']"
      ]
     },
     "execution_count": 11,
     "metadata": {},
     "output_type": "execute_result"
    }
   ],
   "source": [
    "results.keys()"
   ]
  },
  {
   "cell_type": "code",
   "execution_count": 12,
   "metadata": {
    "collapsed": false
   },
   "outputs": [
    {
     "name": "stdout",
     "output_type": "stream",
     "text": [
      "(array([[ 575, 1061],\n",
      "       [ 294, 2303]]), 4.0992130110179797e-76, 0.75276382865170743)\n"
     ]
    },
    {
     "data": {
      "image/png": "[encoded data removed]",
      "text/plain": [
       "<matplotlib.figure.Figure at 0x12044f9d0>"
      ]
     },
     "metadata": {},
     "output_type": "display_data"
    }
   ],
   "source": [
    "plt.plot(results['mean_fpr'], results['mean_tpr'])\n",
    "plt.axis([0, 1, 0, 1])\n",
    "print(results['conf_mat'], results['fisher_p'], results['roc_auc'])"
   ]
  },
  {
   "cell_type": "markdown",
   "metadata": {},
   "source": [
    "Next step: look at classifier predictions by disease"
   ]
  },
  {
   "cell_type": "code",
   "execution_count": 13,
   "metadata": {
    "collapsed": false
   },
   "outputs": [
    {
     "data": {
      "text/html": [
       "<div>\n",
       "<table border=\"1\" class=\"dataframe\">\n",
       "  <thead>\n",
       "    <tr style=\"text-align: right;\">\n",
       "      <th></th>\n",
       "      <th>y_true</th>\n",
       "      <th>y_prob</th>\n",
       "      <th>sample</th>\n",
       "      <th>DiseaseState</th>\n",
       "      <th>dataset</th>\n",
       "      <th>disease_class</th>\n",
       "    </tr>\n",
       "  </thead>\n",
       "  <tbody>\n",
       "    <tr>\n",
       "      <th>0</th>\n",
       "      <td>0</td>\n",
       "      <td>0.639</td>\n",
       "      <td>mhe_zhang-H001</td>\n",
       "      <td>H</td>\n",
       "      <td>mhe_zhang</td>\n",
       "      <td>mhe</td>\n",
       "    </tr>\n",
       "    <tr>\n",
       "      <th>1</th>\n",
       "      <td>0</td>\n",
       "      <td>0.494</td>\n",
       "      <td>mhe_zhang-H002</td>\n",
       "      <td>H</td>\n",
       "      <td>mhe_zhang</td>\n",
       "      <td>mhe</td>\n",
       "    </tr>\n",
       "    <tr>\n",
       "      <th>2</th>\n",
       "      <td>0</td>\n",
       "      <td>0.540</td>\n",
       "      <td>mhe_zhang-H003</td>\n",
       "      <td>H</td>\n",
       "      <td>mhe_zhang</td>\n",
       "      <td>mhe</td>\n",
       "    </tr>\n",
       "    <tr>\n",
       "      <th>3</th>\n",
       "      <td>0</td>\n",
       "      <td>0.782</td>\n",
       "      <td>mhe_zhang-H004</td>\n",
       "      <td>H</td>\n",
       "      <td>mhe_zhang</td>\n",
       "      <td>mhe</td>\n",
       "    </tr>\n",
       "    <tr>\n",
       "      <th>4</th>\n",
       "      <td>0</td>\n",
       "      <td>0.622</td>\n",
       "      <td>mhe_zhang-H005</td>\n",
       "      <td>H</td>\n",
       "      <td>mhe_zhang</td>\n",
       "      <td>mhe</td>\n",
       "    </tr>\n",
       "  </tbody>\n",
       "</table>\n",
       "</div>"
      ],
      "text/plain": [
       "   y_true  y_prob          sample DiseaseState    dataset disease_class\n",
       "0       0   0.639  mhe_zhang-H001            H  mhe_zhang           mhe\n",
       "1       0   0.494  mhe_zhang-H002            H  mhe_zhang           mhe\n",
       "2       0   0.540  mhe_zhang-H003            H  mhe_zhang           mhe\n",
       "3       0   0.782  mhe_zhang-H004            H  mhe_zhang           mhe\n",
       "4       0   0.622  mhe_zhang-H005            H  mhe_zhang           mhe"
      ]
     },
     "execution_count": 13,
     "metadata": {},
     "output_type": "execute_result"
    }
   ],
   "source": [
    "preds = pd.DataFrame(columns=['y_true', 'y_prob'])\n",
    "preds['y_true'] = results['y_true']\n",
    "preds['y_prob'] = results['y_prob']\n",
    "preds['sample'] = h_smpls + dis_smpls\n",
    "preds = pd.merge(preds, bigmeta[['DiseaseState', 'dataset']], left_on='sample', right_index=True)\n",
    "preds['disease_class'] = preds['dataset'].map(lambda x: x.split('_')[0])\n",
    "preds['disease_class'] = preds['disease_class'].replace('edd', 'cdi')\n",
    "preds.head()"
   ]
  },
  {
   "cell_type": "code",
   "execution_count": 14,
   "metadata": {
    "collapsed": false
   },
   "outputs": [
    {
     "data": {
      "text/plain": [
       "(16, 6)"
      ]
     },
     "execution_count": 14,
     "metadata": {},
     "output_type": "execute_result"
    }
   ],
   "source": [
    "g = 'nash_zhu'\n",
    "subdf = preds.query('dataset == @g')\n",
    "nash = pd.concat((subdf.query('DiseaseState == \"NASH\"'), subdf.query('DiseaseState == \"H\"')))\n",
    "nash.query('y_true == 0').shape"
   ]
  },
  {
   "cell_type": "code",
   "execution_count": null,
   "metadata": {
    "collapsed": true
   },
   "outputs": [],
   "source": []
  },
  {
   "cell_type": "code",
   "execution_count": 10,
   "metadata": {
    "collapsed": false
   },
   "outputs": [],
   "source": [
    "disease_colors = {'cdi': \"#61AA60\", #\"#43b944\", #green\n",
    "                  'ibd': \"#996CCE\", #\"#9c69db\", #purple #\"#64ac48\", blueish?\n",
    "                  'ob':  \"#F0C948\", #\"#f0c540\", #golden  \"#c25abc\", #?\n",
    "                  'crc': \"#F56484\", # \"#f11c4f\", #red/pink    #\"#9a963f\",\n",
    "                  'asd': \"#6992cf\", #blue \"#7566c9\", #blueish purple\n",
    "                  't1d': \"#c98746\", #brown\n",
    "                  'nash': \"#4aac8b\", #teal-ish\n",
    "                  'mhe': \"#cc436f\", #dark pink\n",
    "                  'hiv': \"#B86958\", #\"#ca553b\",#rusty red\n",
    "                  'par': \"#c07198\", #dark pink}\n",
    "                  'ra': \"#d59847\" #orange\n",
    "                  }"
   ]
  },
  {
   "cell_type": "code",
   "execution_count": 15,
   "metadata": {
    "collapsed": false
   },
   "outputs": [
    {
     "data": {
      "text/plain": [
       "<matplotlib.legend.Legend at 0x118c5aa10>"
      ]
     },
     "execution_count": 15,
     "metadata": {},
     "output_type": "execute_result"
    },
    {
     "data": {
      "image/png": "[encoded data removed]",
      "text/plain": [
       "<matplotlib.figure.Figure at 0x117f24bd0>"
      ]
     },
     "metadata": {},
     "output_type": "display_data"
    }
   ],
   "source": [
    "fig, ax = plt.subplots(1,1)\n",
    "for g, subdf in preds.groupby('disease_class'):\n",
    "    fpr, tpr, _ = roc_curve(subdf['y_true'], subdf['y_prob'])\n",
    "    ax.plot(fpr, tpr, label=g, c=disease_colors[g], linewidth=2)\n",
    "# plot y = x\n",
    "ax.plot([0,1], [0,1], linestyle='--', color='0.75')\n",
    "\n",
    "# Shrink current axis by 20%\n",
    "box = ax.get_position()\n",
    "ax.set_position([box.x0, box.y0, box.width * 0.8, box.height])\n",
    "\n",
    "# Put a legend to the right of the current axis\n",
    "ax.legend(loc='center left', bbox_to_anchor=(1, 0.5))"
   ]
  },
  {
   "cell_type": "code",
   "execution_count": 16,
   "metadata": {
    "collapsed": false
   },
   "outputs": [
    {
     "data": {
      "text/html": [
       "<div>\n",
       "<table border=\"1\" class=\"dataframe\">\n",
       "  <thead>\n",
       "    <tr style=\"text-align: right;\">\n",
       "      <th></th>\n",
       "      <th>mean_fpr</th>\n",
       "      <th>mean_tpr</th>\n",
       "      <th>roc_auc</th>\n",
       "      <th>fisher_p</th>\n",
       "      <th>dataset</th>\n",
       "      <th>H_smpls</th>\n",
       "      <th>dis_smpls</th>\n",
       "      <th>num_features</th>\n",
       "    </tr>\n",
       "  </thead>\n",
       "  <tbody>\n",
       "    <tr>\n",
       "      <th>0</th>\n",
       "      <td>0.000000</td>\n",
       "      <td>0.542222</td>\n",
       "      <td>0.80119</td>\n",
       "      <td>0.016069</td>\n",
       "      <td>mhe_zhang</td>\n",
       "      <td>25</td>\n",
       "      <td>46</td>\n",
       "      <td>55</td>\n",
       "    </tr>\n",
       "    <tr>\n",
       "      <th>1</th>\n",
       "      <td>0.010101</td>\n",
       "      <td>0.542222</td>\n",
       "      <td>0.80119</td>\n",
       "      <td>0.016069</td>\n",
       "      <td>mhe_zhang</td>\n",
       "      <td>25</td>\n",
       "      <td>46</td>\n",
       "      <td>55</td>\n",
       "    </tr>\n",
       "    <tr>\n",
       "      <th>2</th>\n",
       "      <td>0.020202</td>\n",
       "      <td>0.542222</td>\n",
       "      <td>0.80119</td>\n",
       "      <td>0.016069</td>\n",
       "      <td>mhe_zhang</td>\n",
       "      <td>25</td>\n",
       "      <td>46</td>\n",
       "      <td>55</td>\n",
       "    </tr>\n",
       "    <tr>\n",
       "      <th>3</th>\n",
       "      <td>0.030303</td>\n",
       "      <td>0.542222</td>\n",
       "      <td>0.80119</td>\n",
       "      <td>0.016069</td>\n",
       "      <td>mhe_zhang</td>\n",
       "      <td>25</td>\n",
       "      <td>46</td>\n",
       "      <td>55</td>\n",
       "    </tr>\n",
       "    <tr>\n",
       "      <th>4</th>\n",
       "      <td>0.040404</td>\n",
       "      <td>0.542222</td>\n",
       "      <td>0.80119</td>\n",
       "      <td>0.016069</td>\n",
       "      <td>mhe_zhang</td>\n",
       "      <td>25</td>\n",
       "      <td>46</td>\n",
       "      <td>55</td>\n",
       "    </tr>\n",
       "  </tbody>\n",
       "</table>\n",
       "</div>"
      ],
      "text/plain": [
       "   mean_fpr  mean_tpr  roc_auc  fisher_p    dataset  H_smpls  dis_smpls  \\\n",
       "0  0.000000  0.542222  0.80119  0.016069  mhe_zhang       25         46   \n",
       "1  0.010101  0.542222  0.80119  0.016069  mhe_zhang       25         46   \n",
       "2  0.020202  0.542222  0.80119  0.016069  mhe_zhang       25         46   \n",
       "3  0.030303  0.542222  0.80119  0.016069  mhe_zhang       25         46   \n",
       "4  0.040404  0.542222  0.80119  0.016069  mhe_zhang       25         46   \n",
       "\n",
       "   num_features  \n",
       "0            55  \n",
       "1            55  \n",
       "2            55  \n",
       "3            55  \n",
       "4            55  "
      ]
     },
     "execution_count": 16,
     "metadata": {},
     "output_type": "execute_result"
    }
   ],
   "source": [
    "## Look at this AUC vs. the single-disease AUC\n",
    "fn_rf_results = '/Users/claire/github/microbiomeHD/data/analysis_results/rf_results.txt'\n",
    "rf_results = pd.read_csv(fn_rf_results, sep='\\t')\n",
    "rf_results.head()"
   ]
  },
  {
   "cell_type": "code",
   "execution_count": 17,
   "metadata": {
    "collapsed": false
   },
   "outputs": [
    {
     "data": {
      "text/html": [
       "<div>\n",
       "<table border=\"1\" class=\"dataframe\">\n",
       "  <thead>\n",
       "    <tr style=\"text-align: right;\">\n",
       "      <th></th>\n",
       "      <th>dataset</th>\n",
       "      <th>roc_auc</th>\n",
       "      <th>auc_full_cls</th>\n",
       "      <th>disease</th>\n",
       "      <th>colors</th>\n",
       "    </tr>\n",
       "  </thead>\n",
       "  <tbody>\n",
       "    <tr>\n",
       "      <th>0</th>\n",
       "      <td>mhe_zhang</td>\n",
       "      <td>0.801190</td>\n",
       "      <td>0.779565</td>\n",
       "      <td>mhe</td>\n",
       "      <td>#cc436f</td>\n",
       "    </tr>\n",
       "    <tr>\n",
       "      <th>1</th>\n",
       "      <td>hiv_noguerajulian</td>\n",
       "      <td>0.669463</td>\n",
       "      <td>0.501722</td>\n",
       "      <td>hiv</td>\n",
       "      <td>#B86958</td>\n",
       "    </tr>\n",
       "    <tr>\n",
       "      <th>2</th>\n",
       "      <td>hiv_lozupone</td>\n",
       "      <td>0.923990</td>\n",
       "      <td>0.943144</td>\n",
       "      <td>hiv</td>\n",
       "      <td>#B86958</td>\n",
       "    </tr>\n",
       "    <tr>\n",
       "      <th>3</th>\n",
       "      <td>t1d_alkanani</td>\n",
       "      <td>0.710606</td>\n",
       "      <td>0.718022</td>\n",
       "      <td>t1d</td>\n",
       "      <td>#c98746</td>\n",
       "    </tr>\n",
       "    <tr>\n",
       "      <th>4</th>\n",
       "      <td>edd_singh</td>\n",
       "      <td>0.957783</td>\n",
       "      <td>0.941815</td>\n",
       "      <td>cdi</td>\n",
       "      <td>#61AA60</td>\n",
       "    </tr>\n",
       "  </tbody>\n",
       "</table>\n",
       "</div>"
      ],
      "text/plain": [
       "             dataset   roc_auc  auc_full_cls disease   colors\n",
       "0          mhe_zhang  0.801190      0.779565     mhe  #cc436f\n",
       "1  hiv_noguerajulian  0.669463      0.501722     hiv  #B86958\n",
       "2       hiv_lozupone  0.923990      0.943144     hiv  #B86958\n",
       "3       t1d_alkanani  0.710606      0.718022     t1d  #c98746\n",
       "4          edd_singh  0.957783      0.941815     cdi  #61AA60"
      ]
     },
     "execution_count": 17,
     "metadata": {},
     "output_type": "execute_result"
    }
   ],
   "source": [
    "# Calculate disease-wise AUC from the full classifier\n",
    "full_cls_auc = []\n",
    "for g, subdf in preds.groupby('dataset'):\n",
    "    fpr, tpr, _ = roc_curve(subdf['y_true'], subdf['y_prob'])\n",
    "    full_cls_auc.append([g, auc(fpr, tpr)])\n",
    "full_cls_auc = pd.DataFrame(full_cls_auc, columns=['dataset', 'auc_full_cls'])\n",
    "\n",
    "aucs = pd.merge(rf_results[['dataset', 'roc_auc']].drop_duplicates(), full_cls_auc)\n",
    "aucs['disease'] = aucs['dataset'].map(lambda x: x.split('_')[0])\n",
    "aucs['disease'] = aucs['disease'].replace('edd', 'cdi')\n",
    "aucs['colors'] = aucs['disease'].map(lambda x: disease_colors[x])\n",
    "aucs.head()"
   ]
  },
  {
   "cell_type": "code",
   "execution_count": 18,
   "metadata": {
    "collapsed": false
   },
   "outputs": [
    {
     "data": {
      "image/png": "[encoded data removed]",
      "text/plain": [
       "<matplotlib.figure.Figure at 0x117f244d0>"
      ]
     },
     "metadata": {},
     "output_type": "display_data"
    }
   ],
   "source": [
    "sns.barplot(x='dataset', y='value', hue='variable', data=pd.melt(aucs[['dataset', 'roc_auc', 'auc_full_cls']], id_vars='dataset'))\n",
    "_ = plt.xticks(rotation=90)"
   ]
  },
  {
   "cell_type": "code",
   "execution_count": 19,
   "metadata": {
    "collapsed": false
   },
   "outputs": [
    {
     "data": {
      "image/png": "[encoded data removed]",
      "text/plain": [
       "<matplotlib.figure.Figure at 0x1226bdc10>"
      ]
     },
     "metadata": {},
     "output_type": "display_data"
    }
   ],
   "source": [
    "sns.set_style('white')\n",
    "fig, ax = plt.subplots(figsize=(4,3))\n",
    "ax.plot([0, 1], [0, 1], '--', c='0.95')\n",
    "ax.plot([0.5, 0.5], [0, 1], '--', c='0.75')\n",
    "ax.plot([0, 1], [0.5, 0.5], '--', c='0.75')\n",
    "for g, subdf in aucs.groupby('disease'):\n",
    "    ax.scatter(subdf['roc_auc'], subdf['auc_full_cls'], c=disease_colors[g], label=g)\n",
    "ax.set_xlim([0, 1])\n",
    "ax.set_ylim([0, 1])\n",
    "ax.set_xlabel('AUC, single-dataset classifier')\n",
    "ax.set_ylabel('AUC, full healthy vs. disease classifier')\n",
    "# Shrink current axis by 20%\n",
    "box = ax.get_position()\n",
    "ax.set_position([box.x0, box.y0, box.width * 0.8, box.height])\n",
    "\n",
    "# Put a legend to the right of the current axis\n",
    "ax.legend(loc='center left', bbox_to_anchor=(1, 0.5))\n",
    "\n",
    "fig.savefig('dataset_vs_full_aucs.png')"
   ]
  },
  {
   "cell_type": "code",
   "execution_count": 20,
   "metadata": {
    "collapsed": false
   },
   "outputs": [
    {
     "data": {
      "text/plain": [
       "['y_true',\n",
       " 'y_prob',\n",
       " 'mean_tpr',\n",
       " 'mean_fpr',\n",
       " 'test_fold',\n",
       " 'conf_mat',\n",
       " 'fisher_p',\n",
       " 'roc_auc']"
      ]
     },
     "execution_count": 20,
     "metadata": {},
     "output_type": "execute_result"
    }
   ],
   "source": [
    "results.keys()"
   ]
  },
  {
   "cell_type": "markdown",
   "metadata": {
    "collapsed": true
   },
   "source": [
    "# Leave one dataset out\n",
    "\n",
    "Okay, this is cool - but what if the classifier is just first finding the dataset and then classifying healthy vs. disease?\n",
    "\n",
    "Let's re-train a healthy vs. disease classifier in a leave-one-dataset-out fashion.\n"
   ]
  },
  {
   "cell_type": "code",
   "execution_count": 37,
   "metadata": {
    "collapsed": false
   },
   "outputs": [
    {
     "name": "stdout",
     "output_type": "stream",
     "text": [
      "Reading datasets...\n",
      "cdi_youngster hiv_noguerajulian hiv_lozupone t1d_alkanani edd_singh asd_son crc_zeller ra_scher ibd_papa ob_zhu crc_baxter cdi_schubert par_scheperjans crc_wang ibd_gevers nash_zhu cdi_vincent ob_ross asd_kang mhe_zhang crc_chen ob_turnbaugh hiv_dinh crc_zackular ibd_morgan ob_zupancic ob_goodrich t1d_mejialeon ibd_willing nash_wong \n",
      "Reading datasets... Finished.\n"
     ]
    }
   ],
   "source": [
    "## Read in all datasets and concatenate\n",
    "dfdict = fio.read_dfdict_data(datadir)\n",
    "\n",
    "# Collapse to genus level and relabel samples\n",
    "for dataset in dfdict:\n",
    "    # Collapse to genus level and relabel samples with dataset ID\n",
    "    df = dfdict[dataset]['df']\n",
    "    df = collapse_taxonomic_contents_df(df, 'genus')\n",
    "    df.index = [dataset + '-' + i for i in df.index]\n",
    "    dfdict[dataset]['df'] = df\n",
    "    \n",
    "    # Also relabel indices in metadata\n",
    "    meta = dfdict[dataset]['meta']\n",
    "    meta.index = [dataset + '-' + i for i in meta.index]\n",
    "    dfdict[dataset]['meta'] = meta\n",
    "\n",
    "# Concatenate OTU tables and corresponding metadata\n",
    "ignore_datasets = [d for d in dfdict if 'H' not in dfdict[d]['meta']['DiseaseState'].unique()]\n",
    "# This data is a duplicate of nash_zhu\n",
    "ignore_datasets += ['ob_zhu']\n",
    "\n",
    "bigdf = pd.concat([dfdict[d]['df'] for d in dfdict if d not in ignore_datasets])\n",
    "# Fill NaN's with zeros (i.e. unobserved OTUs)\n",
    "bigdf = bigdf.fillna(0.0)\n",
    "bigmeta = pd.concat([dfdict[d]['meta'] for d in dfdict if d not in ignore_datasets])\n"
   ]
  },
  {
   "cell_type": "code",
   "execution_count": 38,
   "metadata": {
    "collapsed": false
   },
   "outputs": [
    {
     "data": {
      "text/plain": [
       "(4366, 304)"
      ]
     },
     "execution_count": 38,
     "metadata": {},
     "output_type": "execute_result"
    }
   ],
   "source": [
    "bigdf.shape"
   ]
  },
  {
   "cell_type": "code",
   "execution_count": 39,
   "metadata": {
    "collapsed": false
   },
   "outputs": [
    {
     "name": "stdout",
     "output_type": "stream",
     "text": [
      "mhe_zhang\n",
      "train datasets: 26, test datasets: 1\n",
      "hiv_noguerajulian\n",
      "train datasets: 26, test datasets: 1\n",
      "hiv_lozupone\n",
      "train datasets: 26, test datasets: 1\n",
      "t1d_alkanani\n",
      "train datasets: 26, test datasets: 1\n",
      "edd_singh\n",
      "train datasets: 26, test datasets: 1\n",
      "crc_chen\n",
      "train datasets: 26, test datasets: 1\n",
      "asd_son\n",
      "train datasets: 26, test datasets: 1\n",
      "cdi_youngster\n",
      "train datasets: 26, test datasets: 1\n",
      "crc_zeller\n",
      "train datasets: 26, test datasets: 1\n",
      "ra_scher\n",
      "train datasets: 26, test datasets: 1\n",
      "hiv_dinh\n",
      "train datasets: 26, test datasets: 1\n",
      "crc_baxter\n",
      "train datasets: 26, test datasets: 1\n",
      "ob_turnbaugh\n",
      "train datasets: 26, test datasets: 1\n",
      "crc_zackular\n",
      "train datasets: 26, test datasets: 1\n",
      "cdi_schubert\n",
      "train datasets: 26, test datasets: 1\n",
      "par_scheperjans\n",
      "train datasets: 26, test datasets: 1\n",
      "crc_wang\n",
      "train datasets: 26, test datasets: 1\n",
      "ibd_willing\n",
      "train datasets: 26, test datasets: 1\n",
      "ibd_morgan\n",
      "train datasets: 26, test datasets: 1\n",
      "ob_zupancic\n",
      "train datasets: 26, test datasets: 1\n",
      "nash_zhu\n",
      "train datasets: 26, test datasets: 1\n",
      "cdi_vincent\n",
      "train datasets: 26, test datasets: 1\n",
      "ob_ross\n",
      "train datasets: 26, test datasets: 1\n",
      "t1d_mejialeon\n",
      "train datasets: 26, test datasets: 1\n",
      "ob_goodrich\n",
      "train datasets: 26, test datasets: 1\n",
      "asd_kang\n",
      "train datasets: 26, test datasets: 1\n",
      "nash_wong\n",
      "train datasets: 26, test datasets: 1\n"
     ]
    },
    {
     "data": {
      "text/html": [
       "<div>\n",
       "<table border=\"1\" class=\"dataframe\">\n",
       "  <thead>\n",
       "    <tr style=\"text-align: right;\">\n",
       "      <th></th>\n",
       "      <th>auc</th>\n",
       "      <th>dataset</th>\n",
       "      <th>fpr</th>\n",
       "      <th>tpr</th>\n",
       "    </tr>\n",
       "  </thead>\n",
       "  <tbody>\n",
       "    <tr>\n",
       "      <th>0</th>\n",
       "      <td>0.753478</td>\n",
       "      <td>mhe_zhang</td>\n",
       "      <td>0.00</td>\n",
       "      <td>0.021739</td>\n",
       "    </tr>\n",
       "    <tr>\n",
       "      <th>1</th>\n",
       "      <td>0.753478</td>\n",
       "      <td>mhe_zhang</td>\n",
       "      <td>0.00</td>\n",
       "      <td>0.217391</td>\n",
       "    </tr>\n",
       "    <tr>\n",
       "      <th>2</th>\n",
       "      <td>0.753478</td>\n",
       "      <td>mhe_zhang</td>\n",
       "      <td>0.04</td>\n",
       "      <td>0.217391</td>\n",
       "    </tr>\n",
       "    <tr>\n",
       "      <th>3</th>\n",
       "      <td>0.753478</td>\n",
       "      <td>mhe_zhang</td>\n",
       "      <td>0.04</td>\n",
       "      <td>0.478261</td>\n",
       "    </tr>\n",
       "    <tr>\n",
       "      <th>4</th>\n",
       "      <td>0.753478</td>\n",
       "      <td>mhe_zhang</td>\n",
       "      <td>0.12</td>\n",
       "      <td>0.500000</td>\n",
       "    </tr>\n",
       "  </tbody>\n",
       "</table>\n",
       "</div>"
      ],
      "text/plain": [
       "        auc    dataset   fpr       tpr\n",
       "0  0.753478  mhe_zhang  0.00  0.021739\n",
       "1  0.753478  mhe_zhang  0.00  0.217391\n",
       "2  0.753478  mhe_zhang  0.04  0.217391\n",
       "3  0.753478  mhe_zhang  0.04  0.478261\n",
       "4  0.753478  mhe_zhang  0.12  0.500000"
      ]
     },
     "execution_count": 39,
     "metadata": {},
     "output_type": "execute_result"
    }
   ],
   "source": [
    "random_state = 12345\n",
    "\n",
    "# Get healthy and disease samples\n",
    "classes_list = fio.get_classes(bigmeta)\n",
    "classes_list[0] = ['H']\n",
    "classes_list[1].append('nonCDI')\n",
    "[h_smpls, dis_smpls] = fio.get_samples(bigmeta, classes_list)\n",
    "\n",
    "datasets = [d for d in dfdict.keys() if d not in ignore_datasets]\n",
    "all_results = []\n",
    "for d in datasets:\n",
    "    print(d)\n",
    "    train_h = [i for i in h_smpls if not i.startswith(d)]\n",
    "    train_dis = [i for i in dis_smpls if not i.startswith(d)]\n",
    "    rf, X_train, Y_train = prep_classifier(bigdf, train_h, train_dis, random_state)\n",
    "    \n",
    "    test_h = [i for i in h_smpls if i.startswith(d)]\n",
    "    test_dis = [i for i in dis_smpls if i.startswith(d)]\n",
    "    _, X_test, Y_test = prep_classifier(bigdf, test_h, test_dis, random_state)\n",
    "    \n",
    "    # Train\n",
    "    rf = rf.fit(X_train, Y_train)\n",
    "    # Test\n",
    "    probs = rf.predict_proba(X_test)[:,1]\n",
    "    predictions = rf.predict(X_test)\n",
    "    \n",
    "    fpr, tpr, thresholds = roc_curve(Y_test, probs)\n",
    "    roc_auc = auc(fpr, tpr)\n",
    "\n",
    "    print('train datasets: {}, test datasets: {}'.format(\n",
    "        len(set([i.split('-')[0] for i in train_h])),\n",
    "        len(set([i.split('-')[0] for i in test_h]))))\n",
    "    \n",
    "    results = pd.DataFrame.from_dict(dict(zip(['dataset', 'fpr', 'tpr', 'auc'],\n",
    "                                                (d, fpr, tpr, roc_auc))))\n",
    "    all_results.append(results)\n",
    "df_all_results = pd.concat(all_results)\n",
    "df_all_results.head()"
   ]
  },
  {
   "cell_type": "code",
   "execution_count": 40,
   "metadata": {
    "collapsed": false
   },
   "outputs": [
    {
     "data": {
      "text/html": [
       "<div>\n",
       "<table border=\"1\" class=\"dataframe\">\n",
       "  <thead>\n",
       "    <tr style=\"text-align: right;\">\n",
       "      <th></th>\n",
       "      <th>dataset</th>\n",
       "      <th>auc_dataset</th>\n",
       "      <th>auc_full</th>\n",
       "      <th>disease</th>\n",
       "    </tr>\n",
       "  </thead>\n",
       "  <tbody>\n",
       "    <tr>\n",
       "      <th>10</th>\n",
       "      <td>hiv_dinh</td>\n",
       "      <td>0.221717</td>\n",
       "      <td>0.730159</td>\n",
       "      <td>hiv</td>\n",
       "    </tr>\n",
       "    <tr>\n",
       "      <th>6</th>\n",
       "      <td>asd_son</td>\n",
       "      <td>0.386276</td>\n",
       "      <td>0.461672</td>\n",
       "      <td>asd</td>\n",
       "    </tr>\n",
       "    <tr>\n",
       "      <th>19</th>\n",
       "      <td>ob_zupancic</td>\n",
       "      <td>0.442344</td>\n",
       "      <td>0.536097</td>\n",
       "      <td>ob</td>\n",
       "    </tr>\n",
       "    <tr>\n",
       "      <th>22</th>\n",
       "      <td>ob_ross</td>\n",
       "      <td>0.486797</td>\n",
       "      <td>0.515593</td>\n",
       "      <td>ob</td>\n",
       "    </tr>\n",
       "    <tr>\n",
       "      <th>13</th>\n",
       "      <td>crc_zackular</td>\n",
       "      <td>0.569192</td>\n",
       "      <td>0.792778</td>\n",
       "      <td>crc</td>\n",
       "    </tr>\n",
       "    <tr>\n",
       "      <th>9</th>\n",
       "      <td>ra_scher</td>\n",
       "      <td>0.620076</td>\n",
       "      <td>0.565199</td>\n",
       "      <td>ra</td>\n",
       "    </tr>\n",
       "    <tr>\n",
       "      <th>17</th>\n",
       "      <td>ibd_willing</td>\n",
       "      <td>0.657239</td>\n",
       "      <td>0.668254</td>\n",
       "      <td>ibd</td>\n",
       "    </tr>\n",
       "    <tr>\n",
       "      <th>24</th>\n",
       "      <td>ob_goodrich</td>\n",
       "      <td>0.666916</td>\n",
       "      <td>0.571015</td>\n",
       "      <td>ob</td>\n",
       "    </tr>\n",
       "    <tr>\n",
       "      <th>1</th>\n",
       "      <td>hiv_noguerajulian</td>\n",
       "      <td>0.669463</td>\n",
       "      <td>0.455022</td>\n",
       "      <td>hiv</td>\n",
       "    </tr>\n",
       "    <tr>\n",
       "      <th>15</th>\n",
       "      <td>par_scheperjans</td>\n",
       "      <td>0.671944</td>\n",
       "      <td>0.550676</td>\n",
       "      <td>par</td>\n",
       "    </tr>\n",
       "    <tr>\n",
       "      <th>26</th>\n",
       "      <td>nash_wong</td>\n",
       "      <td>0.675589</td>\n",
       "      <td>0.600852</td>\n",
       "      <td>nash</td>\n",
       "    </tr>\n",
       "    <tr>\n",
       "      <th>3</th>\n",
       "      <td>t1d_alkanani</td>\n",
       "      <td>0.710606</td>\n",
       "      <td>0.574163</td>\n",
       "      <td>t1d</td>\n",
       "    </tr>\n",
       "    <tr>\n",
       "      <th>25</th>\n",
       "      <td>asd_kang</td>\n",
       "      <td>0.763215</td>\n",
       "      <td>0.518421</td>\n",
       "      <td>asd</td>\n",
       "    </tr>\n",
       "    <tr>\n",
       "      <th>23</th>\n",
       "      <td>t1d_mejialeon</td>\n",
       "      <td>0.765253</td>\n",
       "      <td>0.339286</td>\n",
       "      <td>t1d</td>\n",
       "    </tr>\n",
       "    <tr>\n",
       "      <th>11</th>\n",
       "      <td>crc_baxter</td>\n",
       "      <td>0.774656</td>\n",
       "      <td>0.627495</td>\n",
       "      <td>crc</td>\n",
       "    </tr>\n",
       "    <tr>\n",
       "      <th>5</th>\n",
       "      <td>crc_chen</td>\n",
       "      <td>0.782424</td>\n",
       "      <td>0.563853</td>\n",
       "      <td>crc</td>\n",
       "    </tr>\n",
       "    <tr>\n",
       "      <th>0</th>\n",
       "      <td>mhe_zhang</td>\n",
       "      <td>0.801190</td>\n",
       "      <td>0.753478</td>\n",
       "      <td>mhe</td>\n",
       "    </tr>\n",
       "    <tr>\n",
       "      <th>18</th>\n",
       "      <td>ibd_morgan</td>\n",
       "      <td>0.811422</td>\n",
       "      <td>0.764918</td>\n",
       "      <td>ibd</td>\n",
       "    </tr>\n",
       "    <tr>\n",
       "      <th>8</th>\n",
       "      <td>crc_zeller</td>\n",
       "      <td>0.820691</td>\n",
       "      <td>0.726016</td>\n",
       "      <td>crc</td>\n",
       "    </tr>\n",
       "    <tr>\n",
       "      <th>12</th>\n",
       "      <td>ob_turnbaugh</td>\n",
       "      <td>0.842568</td>\n",
       "      <td>0.686885</td>\n",
       "      <td>ob</td>\n",
       "    </tr>\n",
       "    <tr>\n",
       "      <th>16</th>\n",
       "      <td>crc_wang</td>\n",
       "      <td>0.903577</td>\n",
       "      <td>0.656776</td>\n",
       "      <td>crc</td>\n",
       "    </tr>\n",
       "    <tr>\n",
       "      <th>14</th>\n",
       "      <td>cdi_schubert</td>\n",
       "      <td>0.908600</td>\n",
       "      <td>0.910536</td>\n",
       "      <td>cdi</td>\n",
       "    </tr>\n",
       "    <tr>\n",
       "      <th>21</th>\n",
       "      <td>cdi_vincent</td>\n",
       "      <td>0.912525</td>\n",
       "      <td>0.678400</td>\n",
       "      <td>cdi</td>\n",
       "    </tr>\n",
       "    <tr>\n",
       "      <th>2</th>\n",
       "      <td>hiv_lozupone</td>\n",
       "      <td>0.923990</td>\n",
       "      <td>0.801003</td>\n",
       "      <td>hiv</td>\n",
       "    </tr>\n",
       "    <tr>\n",
       "      <th>20</th>\n",
       "      <td>nash_zhu</td>\n",
       "      <td>0.934343</td>\n",
       "      <td>0.873580</td>\n",
       "      <td>nash</td>\n",
       "    </tr>\n",
       "    <tr>\n",
       "      <th>4</th>\n",
       "      <td>edd_singh</td>\n",
       "      <td>0.957783</td>\n",
       "      <td>0.875410</td>\n",
       "      <td>cdi</td>\n",
       "    </tr>\n",
       "    <tr>\n",
       "      <th>7</th>\n",
       "      <td>cdi_youngster</td>\n",
       "      <td>NaN</td>\n",
       "      <td>1.000000</td>\n",
       "      <td>cdi</td>\n",
       "    </tr>\n",
       "  </tbody>\n",
       "</table>\n",
       "</div>"
      ],
      "text/plain": [
       "              dataset  auc_dataset  auc_full disease\n",
       "10           hiv_dinh     0.221717  0.730159     hiv\n",
       "6             asd_son     0.386276  0.461672     asd\n",
       "19        ob_zupancic     0.442344  0.536097      ob\n",
       "22            ob_ross     0.486797  0.515593      ob\n",
       "13       crc_zackular     0.569192  0.792778     crc\n",
       "9            ra_scher     0.620076  0.565199      ra\n",
       "17        ibd_willing     0.657239  0.668254     ibd\n",
       "24        ob_goodrich     0.666916  0.571015      ob\n",
       "1   hiv_noguerajulian     0.669463  0.455022     hiv\n",
       "15    par_scheperjans     0.671944  0.550676     par\n",
       "26          nash_wong     0.675589  0.600852    nash\n",
       "3        t1d_alkanani     0.710606  0.574163     t1d\n",
       "25           asd_kang     0.763215  0.518421     asd\n",
       "23      t1d_mejialeon     0.765253  0.339286     t1d\n",
       "11         crc_baxter     0.774656  0.627495     crc\n",
       "5            crc_chen     0.782424  0.563853     crc\n",
       "0           mhe_zhang     0.801190  0.753478     mhe\n",
       "18         ibd_morgan     0.811422  0.764918     ibd\n",
       "8          crc_zeller     0.820691  0.726016     crc\n",
       "12       ob_turnbaugh     0.842568  0.686885      ob\n",
       "16           crc_wang     0.903577  0.656776     crc\n",
       "14       cdi_schubert     0.908600  0.910536     cdi\n",
       "21        cdi_vincent     0.912525  0.678400     cdi\n",
       "2        hiv_lozupone     0.923990  0.801003     hiv\n",
       "20           nash_zhu     0.934343  0.873580    nash\n",
       "4           edd_singh     0.957783  0.875410     cdi\n",
       "7       cdi_youngster          NaN  1.000000     cdi"
      ]
     },
     "execution_count": 40,
     "metadata": {},
     "output_type": "execute_result"
    }
   ],
   "source": [
    "## Look at this AUC vs. the single-disease AUC\n",
    "fn_rf_results = '/Users/claire/github/microbiomeHD/data/analysis_results/rf_results.txt'\n",
    "rf_results = pd.read_csv(fn_rf_results, sep='\\t')\n",
    "\n",
    "aucs_datasetout = pd.merge(rf_results[['dataset', 'roc_auc']].drop_duplicates(), df_all_results[['dataset', 'auc']].drop_duplicates())\n",
    "aucs_datasetout = aucs_datasetout.rename(columns={'auc': 'auc_full', 'roc_auc': 'auc_dataset'})\n",
    "aucs_datasetout['disease'] = aucs_datasetout['dataset'].map(lambda x: x.split('_')[0])\n",
    "aucs_datasetout['disease'] = aucs_datasetout['disease'].replace('edd', 'cdi')\n",
    "aucs_datasetout.sort_values(by='auc_dataset')"
   ]
  },
  {
   "cell_type": "code",
   "execution_count": 41,
   "metadata": {
    "collapsed": false
   },
   "outputs": [
    {
     "data": {
      "image/png": "[encoded data removed]",
      "text/plain": [
       "<matplotlib.figure.Figure at 0x1243c9e50>"
      ]
     },
     "metadata": {},
     "output_type": "display_data"
    }
   ],
   "source": [
    "sns.set_style('white')\n",
    "fig, ax = plt.subplots(figsize=(4,3))\n",
    "ax.plot([0, 1], [0, 1], '--', c='0.95')\n",
    "ax.plot([0.5, 0.5], [0, 1], '--', c='0.95')\n",
    "ax.plot([0, 1], [0.5, 0.5], '--', c='0.95')\n",
    "\n",
    "for g, subdf in aucs_datasetout.groupby('disease'):\n",
    "    if g == 'mhe':\n",
    "        label = 'liv'\n",
    "    elif g == 'ra':\n",
    "        label = 'art'\n",
    "    else:\n",
    "        label = g\n",
    "    ax.scatter(subdf['auc_dataset'], subdf['auc_full'], c=disease_colors[g], label=label)\n",
    "ax.set_xlim([0, 1])\n",
    "ax.set_ylim([0, 1])\n",
    "ax.set_xlabel('AUC, single-dataset classifier')\n",
    "ax.set_ylabel('AUC, full healthy vs. disease classifier')\n",
    "# Shrink current axis by 20%\n",
    "box = ax.get_position()\n",
    "ax.set_position([box.x0, box.y0, box.width * 0.8, box.height])\n",
    "\n",
    "# Put a legend to the right of the current axis\n",
    "ax.legend(loc='center left', bbox_to_anchor=(1, 0.5))\n",
    "\n",
    "fig.savefig('leave_one_dataset_out.png')"
   ]
  },
  {
   "cell_type": "markdown",
   "metadata": {},
   "source": [
    "# Leave one disease out\n"
   ]
  },
  {
   "cell_type": "code",
   "execution_count": 30,
   "metadata": {
    "collapsed": false
   },
   "outputs": [
    {
     "name": "stdout",
     "output_type": "stream",
     "text": [
      "Reading datasets...\n",
      "cdi_youngster hiv_noguerajulian hiv_lozupone t1d_alkanani edd_singh asd_son crc_zeller ra_scher ibd_papa ob_zhu crc_baxter cdi_schubert par_scheperjans crc_wang ibd_gevers nash_zhu cdi_vincent ob_ross asd_kang mhe_zhang crc_chen ob_turnbaugh hiv_dinh crc_zackular ibd_morgan ob_zupancic ob_goodrich t1d_mejialeon ibd_willing nash_wong \n",
      "Reading datasets... Finished.\n"
     ]
    }
   ],
   "source": [
    "## Read in all datasets and concatenate\n",
    "datadir = '../../data/clean_tables'\n",
    "dfdict = fio.read_dfdict_data(datadir)\n",
    "\n",
    "# Collapse to genus level and relabel samples\n",
    "for dataset in dfdict:\n",
    "    # Collapse to genus level and relabel samples with dataset ID\n",
    "    df = dfdict[dataset]['df']\n",
    "    df = collapse_taxonomic_contents_df(df, 'genus')\n",
    "    \n",
    "    if dataset == 'edd_singh':\n",
    "        df.index = ['cdi_singh-' + i for i in df.index]\n",
    "    else:  \n",
    "        df.index = [dataset + '-' + i for i in df.index]\n",
    "    dfdict[dataset]['df'] = df\n",
    "    \n",
    "    # Also relabel indices in metadata\n",
    "    meta = dfdict[dataset]['meta']\n",
    "    if dataset == 'edd_singh':\n",
    "        meta.index = ['cdi_singh-' + i for i in meta.index]\n",
    "    else:\n",
    "        meta.index = [dataset + '-' + i for i in meta.index]\n",
    "    dfdict[dataset]['meta'] = meta\n",
    "\n",
    "# Concatenate OTU tables and corresponding metadata\n",
    "ignore_datasets = [d for d in dfdict if 'H' not in dfdict[d]['meta']['DiseaseState'].unique()]\n",
    "# This data is a duplicate of nash_zhu\n",
    "ignore_datasets += ['ob_zhu']\n",
    "\n",
    "bigdf = pd.concat([dfdict[d]['df'] for d in dfdict if d not in ignore_datasets])\n",
    "# Fill NaN's with zeros (i.e. unobserved OTUs)\n",
    "bigdf = bigdf.fillna(0.0)\n",
    "bigmeta = pd.concat([dfdict[d]['meta'] for d in dfdict if d not in ignore_datasets])"
   ]
  },
  {
   "cell_type": "code",
   "execution_count": 31,
   "metadata": {
    "collapsed": false
   },
   "outputs": [
    {
     "name": "stdout",
     "output_type": "stream",
     "text": [
      "set(['t1d', 'par', 'hiv', 'mhe', 'ibd', 'cdi', 'ob', 'crc', 'ra', 'asd', 'nash'])\n"
     ]
    }
   ],
   "source": [
    "print(set([i.split('_')[0] for i in bigdf.index]))"
   ]
  },
  {
   "cell_type": "code",
   "execution_count": 32,
   "metadata": {
    "collapsed": false
   },
   "outputs": [
    {
     "name": "stdout",
     "output_type": "stream",
     "text": [
      "t1d\n",
      "train datasets: 25, test datasets: 2\n",
      "par\n",
      "train datasets: 26, test datasets: 1\n",
      "hiv\n",
      "train datasets: 24, test datasets: 3\n",
      "mhe\n",
      "train datasets: 26, test datasets: 1\n",
      "ibd\n",
      "train datasets: 25, test datasets: 2\n",
      "cdi\n",
      "train datasets: 23, test datasets: 4\n",
      "ob\n",
      "train datasets: 23, test datasets: 4\n",
      "crc\n",
      "train datasets: 22, test datasets: 5\n",
      "ra\n",
      "train datasets: 26, test datasets: 1\n",
      "asd\n",
      "train datasets: 25, test datasets: 2\n",
      "nash\n",
      "train datasets: 25, test datasets: 2\n"
     ]
    },
    {
     "data": {
      "text/html": [
       "<div>\n",
       "<table border=\"1\" class=\"dataframe\">\n",
       "  <thead>\n",
       "    <tr style=\"text-align: right;\">\n",
       "      <th></th>\n",
       "      <th>auc</th>\n",
       "      <th>disease</th>\n",
       "      <th>fpr</th>\n",
       "      <th>tpr</th>\n",
       "    </tr>\n",
       "  </thead>\n",
       "  <tbody>\n",
       "    <tr>\n",
       "      <th>0</th>\n",
       "      <td>0.494912</td>\n",
       "      <td>t1d</td>\n",
       "      <td>0.000000</td>\n",
       "      <td>0.012821</td>\n",
       "    </tr>\n",
       "    <tr>\n",
       "      <th>1</th>\n",
       "      <td>0.494912</td>\n",
       "      <td>t1d</td>\n",
       "      <td>0.000000</td>\n",
       "      <td>0.038462</td>\n",
       "    </tr>\n",
       "    <tr>\n",
       "      <th>2</th>\n",
       "      <td>0.494912</td>\n",
       "      <td>t1d</td>\n",
       "      <td>0.015873</td>\n",
       "      <td>0.038462</td>\n",
       "    </tr>\n",
       "    <tr>\n",
       "      <th>3</th>\n",
       "      <td>0.494912</td>\n",
       "      <td>t1d</td>\n",
       "      <td>0.015873</td>\n",
       "      <td>0.076923</td>\n",
       "    </tr>\n",
       "    <tr>\n",
       "      <th>4</th>\n",
       "      <td>0.494912</td>\n",
       "      <td>t1d</td>\n",
       "      <td>0.063492</td>\n",
       "      <td>0.076923</td>\n",
       "    </tr>\n",
       "  </tbody>\n",
       "</table>\n",
       "</div>"
      ],
      "text/plain": [
       "        auc disease       fpr       tpr\n",
       "0  0.494912     t1d  0.000000  0.012821\n",
       "1  0.494912     t1d  0.000000  0.038462\n",
       "2  0.494912     t1d  0.015873  0.038462\n",
       "3  0.494912     t1d  0.015873  0.076923\n",
       "4  0.494912     t1d  0.063492  0.076923"
      ]
     },
     "execution_count": 32,
     "metadata": {},
     "output_type": "execute_result"
    }
   ],
   "source": [
    "random_state = 12345\n",
    "\n",
    "# Get healthy and disease samples\n",
    "classes_list = fio.get_classes(bigmeta)\n",
    "classes_list[0] = ['H']\n",
    "classes_list[1].append('nonCDI')\n",
    "[h_smpls, dis_smpls] = fio.get_samples(bigmeta, classes_list)\n",
    "\n",
    "diseases = list(set([i.split('_')[0] for i in bigdf.index]))\n",
    "all_results = []\n",
    "for d in diseases:\n",
    "    print(d)\n",
    "    train_h = [i for i in h_smpls if not i.startswith(d)]\n",
    "    train_dis = [i for i in dis_smpls if not i.startswith(d)]\n",
    "    rf, X_train, Y_train = prep_classifier(bigdf, train_h, train_dis, random_state)\n",
    "    \n",
    "    test_h = [i for i in h_smpls if i.startswith(d)]\n",
    "    test_dis = [i for i in dis_smpls if i.startswith(d)]\n",
    "    _, X_test, Y_test = prep_classifier(bigdf, test_h, test_dis, random_state)\n",
    "    \n",
    "    # Train\n",
    "    rf = rf.fit(X_train, Y_train)\n",
    "    # Test\n",
    "    probs = rf.predict_proba(X_test)[:,1]\n",
    "    predictions = rf.predict(X_test)\n",
    "    \n",
    "    fpr, tpr, thresholds = roc_curve(Y_test, probs)\n",
    "    roc_auc = auc(fpr, tpr)\n",
    "\n",
    "    print('train datasets: {}, test datasets: {}'.format(\n",
    "        len(set([i.split('-')[0] for i in train_h])),\n",
    "        len(set([i.split('-')[0] for i in test_h]))))\n",
    "    \n",
    "    results = pd.DataFrame.from_dict(dict(zip(['disease', 'fpr', 'tpr', 'auc'],\n",
    "                                                (d, fpr, tpr, roc_auc))))\n",
    "    all_results.append(results)\n",
    "df_all_results_dis = pd.concat(all_results)\n",
    "df_all_results_dis.head()"
   ]
  },
  {
   "cell_type": "code",
   "execution_count": 33,
   "metadata": {
    "collapsed": false
   },
   "outputs": [
    {
     "data": {
      "text/html": [
       "<div>\n",
       "<table border=\"1\" class=\"dataframe\">\n",
       "  <thead>\n",
       "    <tr style=\"text-align: right;\">\n",
       "      <th></th>\n",
       "      <th>mean_dataset_auc</th>\n",
       "    </tr>\n",
       "    <tr>\n",
       "      <th>disease</th>\n",
       "      <th></th>\n",
       "    </tr>\n",
       "  </thead>\n",
       "  <tbody>\n",
       "    <tr>\n",
       "      <th>asd</th>\n",
       "      <td>0.574746</td>\n",
       "    </tr>\n",
       "    <tr>\n",
       "      <th>cdi</th>\n",
       "      <td>0.910562</td>\n",
       "    </tr>\n",
       "    <tr>\n",
       "      <th>crc</th>\n",
       "      <td>0.770108</td>\n",
       "    </tr>\n",
       "    <tr>\n",
       "      <th>edd</th>\n",
       "      <td>0.957783</td>\n",
       "    </tr>\n",
       "    <tr>\n",
       "      <th>hiv</th>\n",
       "      <td>0.605057</td>\n",
       "    </tr>\n",
       "  </tbody>\n",
       "</table>\n",
       "</div>"
      ],
      "text/plain": [
       "         mean_dataset_auc\n",
       "disease                  \n",
       "asd              0.574746\n",
       "cdi              0.910562\n",
       "crc              0.770108\n",
       "edd              0.957783\n",
       "hiv              0.605057"
      ]
     },
     "execution_count": 33,
     "metadata": {},
     "output_type": "execute_result"
    }
   ],
   "source": [
    "## Look at this AUC vs. the single-disease AUC\n",
    "fn_rf_results = '/Users/claire/github/microbiomeHD/data/analysis_results/rf_results.txt'\n",
    "rf_results = pd.read_csv(fn_rf_results, sep='\\t')\n",
    "rf_results['disease'] = rf_results['dataset'].map(lambda x: x.split('_')[0])\n",
    "mean_auc = rf_results.groupby('disease').mean()['roc_auc']\n",
    "mean_auc = pd.DataFrame(mean_auc)\n",
    "mean_auc = mean_auc.rename(columns={'roc_auc': 'mean_dataset_auc'})\n",
    "mean_auc.head()"
   ]
  },
  {
   "cell_type": "code",
   "execution_count": 34,
   "metadata": {
    "collapsed": false
   },
   "outputs": [
    {
     "data": {
      "text/html": [
       "<div>\n",
       "<table border=\"1\" class=\"dataframe\">\n",
       "  <thead>\n",
       "    <tr style=\"text-align: right;\">\n",
       "      <th></th>\n",
       "      <th>disease</th>\n",
       "      <th>auc_leaveout</th>\n",
       "      <th>mean_dataset_auc</th>\n",
       "    </tr>\n",
       "  </thead>\n",
       "  <tbody>\n",
       "    <tr>\n",
       "      <th>asd</th>\n",
       "      <td>asd</td>\n",
       "      <td>0.453626</td>\n",
       "      <td>0.574746</td>\n",
       "    </tr>\n",
       "    <tr>\n",
       "      <th>cdi</th>\n",
       "      <td>cdi</td>\n",
       "      <td>0.739327</td>\n",
       "      <td>0.910562</td>\n",
       "    </tr>\n",
       "    <tr>\n",
       "      <th>crc</th>\n",
       "      <td>crc</td>\n",
       "      <td>0.571546</td>\n",
       "      <td>0.770108</td>\n",
       "    </tr>\n",
       "    <tr>\n",
       "      <th>hiv</th>\n",
       "      <td>hiv</td>\n",
       "      <td>0.467321</td>\n",
       "      <td>0.605057</td>\n",
       "    </tr>\n",
       "    <tr>\n",
       "      <th>ibd</th>\n",
       "      <td>ibd</td>\n",
       "      <td>0.673203</td>\n",
       "      <td>0.755042</td>\n",
       "    </tr>\n",
       "    <tr>\n",
       "      <th>mhe</th>\n",
       "      <td>mhe</td>\n",
       "      <td>0.753478</td>\n",
       "      <td>0.801190</td>\n",
       "    </tr>\n",
       "    <tr>\n",
       "      <th>nash</th>\n",
       "      <td>nash</td>\n",
       "      <td>0.580332</td>\n",
       "      <td>0.804966</td>\n",
       "    </tr>\n",
       "    <tr>\n",
       "      <th>ob</th>\n",
       "      <td>ob</td>\n",
       "      <td>0.676042</td>\n",
       "      <td>0.660614</td>\n",
       "    </tr>\n",
       "    <tr>\n",
       "      <th>par</th>\n",
       "      <td>par</td>\n",
       "      <td>0.550676</td>\n",
       "      <td>0.671944</td>\n",
       "    </tr>\n",
       "    <tr>\n",
       "      <th>ra</th>\n",
       "      <td>ra</td>\n",
       "      <td>0.565199</td>\n",
       "      <td>0.620076</td>\n",
       "    </tr>\n",
       "    <tr>\n",
       "      <th>t1d</th>\n",
       "      <td>t1d</td>\n",
       "      <td>0.494912</td>\n",
       "      <td>0.737929</td>\n",
       "    </tr>\n",
       "  </tbody>\n",
       "</table>\n",
       "</div>"
      ],
      "text/plain": [
       "     disease  auc_leaveout  mean_dataset_auc\n",
       "asd      asd      0.453626          0.574746\n",
       "cdi      cdi      0.739327          0.910562\n",
       "crc      crc      0.571546          0.770108\n",
       "hiv      hiv      0.467321          0.605057\n",
       "ibd      ibd      0.673203          0.755042\n",
       "mhe      mhe      0.753478          0.801190\n",
       "nash    nash      0.580332          0.804966\n",
       "ob        ob      0.676042          0.660614\n",
       "par      par      0.550676          0.671944\n",
       "ra        ra      0.565199          0.620076\n",
       "t1d      t1d      0.494912          0.737929"
      ]
     },
     "execution_count": 34,
     "metadata": {},
     "output_type": "execute_result"
    }
   ],
   "source": [
    "aucs = df_all_results_dis[['disease', 'auc']].drop_duplicates()\n",
    "aucs.index = aucs['disease']\n",
    "aucs = aucs.rename(columns={'auc': 'auc_leaveout'})\n",
    "aucs = pd.concat((aucs, mean_auc), axis=1).dropna()\n",
    "aucs"
   ]
  },
  {
   "cell_type": "code",
   "execution_count": 36,
   "metadata": {
    "collapsed": false
   },
   "outputs": [
    {
     "data": {
      "image/png": "[encoded data removed]",
      "text/plain": [
       "<matplotlib.figure.Figure at 0x118d10950>"
      ]
     },
     "metadata": {},
     "output_type": "display_data"
    }
   ],
   "source": [
    "sns.set_style('white')\n",
    "fig, ax = plt.subplots(figsize=(4,3))\n",
    "ax.plot([0, 1], [0, 1], '--', c='0.95')\n",
    "ax.plot([0.5, 0.5], [0, 1], '--', c='0.95')\n",
    "ax.plot([0, 1], [0.5, 0.5], '--', c='0.95')\n",
    "\n",
    "for g, subdf in aucs.groupby('disease'):\n",
    "    if g == 'mhe':\n",
    "        label = 'liv'\n",
    "    elif g == 'ra':\n",
    "        label = 'art'\n",
    "    else:\n",
    "        label = g\n",
    "    ax.scatter(subdf['mean_dataset_auc'], subdf['auc_leaveout'], c=disease_colors[g], label=label)\n",
    "ax.set_xlim([0, 1])\n",
    "ax.set_ylim([0, 1])\n",
    "ax.set_xlabel('mean AUC, single-dataset classifier')\n",
    "ax.set_ylabel('AUC, full healthy vs. disease classifier')\n",
    "# Shrink current axis by 20%\n",
    "box = ax.get_position()\n",
    "ax.set_position([box.x0, box.y0, box.width * 0.8, box.height])\n",
    "\n",
    "# Put a legend to the right of the current axis\n",
    "ax.legend(loc='center left', bbox_to_anchor=(1, 0.5))\n",
    "#fig.tight_layout()\n",
    "fig.savefig('leave_one_disease_out.png')"
   ]
  },
  {
   "cell_type": "code",
   "execution_count": 24,
   "metadata": {
    "collapsed": false
   },
   "outputs": [
    {
     "data": {
      "text/plain": [
       "(0.69916185007404275, 0.016656582760971005)"
      ]
     },
     "execution_count": 24,
     "metadata": {},
     "output_type": "execute_result"
    }
   ],
   "source": [
    "from scipy.stats import pearsonr\n",
    "\n",
    "pearsonr(aucs['auc_leaveout'], aucs['mean_dataset_auc'])"
   ]
  },
  {
   "cell_type": "code",
   "execution_count": null,
   "metadata": {
    "collapsed": true
   },
   "outputs": [],
   "source": []
  }
 ],
 "metadata": {
  "anaconda-cloud": {},
  "kernelspec": {
   "display_name": "Python [default]",
   "language": "python",
   "name": "python2"
  },
  "language_info": {
   "codemirror_mode": {
    "name": "ipython",
    "version": 2
   },
   "file_extension": ".py",
   "mimetype": "text/x-python",
   "name": "python",
   "nbconvert_exporter": "python",
   "pygments_lexer": "ipython2",
   "version": "2.7.12"
  }
 },
 "nbformat": 4,
 "nbformat_minor": 2
}
