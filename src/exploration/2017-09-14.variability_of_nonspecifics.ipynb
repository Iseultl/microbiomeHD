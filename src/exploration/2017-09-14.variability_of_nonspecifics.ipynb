{
 "cells": [
  {
   "cell_type": "markdown",
   "metadata": {},
   "source": [
    "This notebook is a first exploration into whether the non-specific responders are more variable across people than most other bugs.\n",
    "\n",
    "Goal:\n",
    "- if the \"shared\" bugs *are* more variable, then this supports our \"caution to researchers that most reported associations may be spurious and not biologically related to the disease of interest\"\n",
    "- if the \"shared\" bugs are *not* more variable, then this supports our hypothesis that there's some biology driving their responses across multiple diseases."
   ]
  },
  {
   "cell_type": "code",
   "execution_count": 31,
   "metadata": {
    "collapsed": true
   },
   "outputs": [],
   "source": [
    "import pandas as pd\n",
    "import numpy as np\n",
    "\n",
    "import matplotlib.pyplot as plt\n",
    "import seaborn as sns\n",
    "%matplotlib inline"
   ]
  },
  {
   "cell_type": "code",
   "execution_count": 1,
   "metadata": {
    "collapsed": true
   },
   "outputs": [],
   "source": [
    "import os, sys\n",
    "src_dir = os.path.normpath(os.path.join(os.getcwd(), '../util'))\n",
    "sys.path.insert(0, src_dir)\n",
    "import FileIO as fio\n",
    "import util"
   ]
  },
  {
   "cell_type": "code",
   "execution_count": 17,
   "metadata": {
    "collapsed": false
   },
   "outputs": [
    {
     "data": {
      "text/html": [
       "<div>\n",
       "<table border=\"1\" class=\"dataframe\">\n",
       "  <thead>\n",
       "    <tr style=\"text-align: right;\">\n",
       "      <th></th>\n",
       "      <th>overall</th>\n",
       "    </tr>\n",
       "  </thead>\n",
       "  <tbody>\n",
       "    <tr>\n",
       "      <th>k__Archaea;p__Euryarchaeota;c__Methanobacteria;o__Methanobacteriales;f__Methanobacteriaceae;g__Methanobrevibacter</th>\n",
       "      <td>NaN</td>\n",
       "    </tr>\n",
       "    <tr>\n",
       "      <th>k__Bacteria;p__Actinobacteria;c__Actinobacteria;o__Actinomycetales;f__Actinomycetaceae;g__Actinomyces</th>\n",
       "      <td>NaN</td>\n",
       "    </tr>\n",
       "    <tr>\n",
       "      <th>k__Bacteria;p__Actinobacteria;c__Actinobacteria;o__Actinomycetales;f__Actinomycetaceae;g__Mobiluncus</th>\n",
       "      <td>NaN</td>\n",
       "    </tr>\n",
       "    <tr>\n",
       "      <th>k__Bacteria;p__Actinobacteria;c__Actinobacteria;o__Actinomycetales;f__Actinomycetaceae;g__Varibaculum</th>\n",
       "      <td>1.0</td>\n",
       "    </tr>\n",
       "    <tr>\n",
       "      <th>k__Bacteria;p__Actinobacteria;c__Actinobacteria;o__Actinomycetales;f__Corynebacteriaceae;g__Corynebacterium</th>\n",
       "      <td>NaN</td>\n",
       "    </tr>\n",
       "  </tbody>\n",
       "</table>\n",
       "</div>"
      ],
      "text/plain": [
       "                                                    overall\n",
       "k__Archaea;p__Euryarchaeota;c__Methanobacteria;...      NaN\n",
       "k__Bacteria;p__Actinobacteria;c__Actinobacteria...      NaN\n",
       "k__Bacteria;p__Actinobacteria;c__Actinobacteria...      NaN\n",
       "k__Bacteria;p__Actinobacteria;c__Actinobacteria...      1.0\n",
       "k__Bacteria;p__Actinobacteria;c__Actinobacteria...      NaN"
      ]
     },
     "execution_count": 17,
     "metadata": {},
     "output_type": "execute_result"
    }
   ],
   "source": [
    "datadir = '/Users/claire/github/microbiomeHD/data/clean_tables/'\n",
    "\n",
    "fncore = '../../data/analysis_results/meta.counting.q-0.05.2_diseases.across_all_diseases.txt'\n",
    "coredf = pd.read_csv(fncore, sep='\\t', index_col=0)\n",
    "coredf.head()"
   ]
  },
  {
   "cell_type": "code",
   "execution_count": 14,
   "metadata": {
    "collapsed": false
   },
   "outputs": [
    {
     "name": "stdout",
     "output_type": "stream",
     "text": [
      "cdi_youngster hiv_noguerajulian hiv_lozupone t1d_alkanani edd_singh asd_son crc_zeller liv_zhang ibd_papa ob_zhu crc_baxter cdi_schubert par_scheperjans crc_wang ibd_gevers nash_zhu cdi_vincent ob_ross asd_kang art_scher crc_chen ob_turnbaugh hiv_dinh noncdi_schubert ibd_morgan ob_zupancic ob_goodrich t1d_mejialeon ibd_willing nash_wong\n"
     ]
    }
   ],
   "source": [
    "datasetids = fio.get_dataset_ids(datadir)\n",
    "\n",
    "cvlst = []\n",
    "\n",
    "for dataset in datasetids:\n",
    "    print(dataset),\n",
    "    ## Read dataset\n",
    "    df, meta = fio.read_dataset_files(dataset, datadir)\n",
    "    df = util.raw2abun(df)\n",
    "\n",
    "    ## Collapse to genus level\n",
    "    df = util.collapse_taxonomic_contents_df(df, 'genus')\n",
    "\n",
    "    cv = df.std() / df.mean()\n",
    "    cv.name = dataset\n",
    "    \n",
    "    cvlst.append(cv)\n",
    " "
   ]
  },
  {
   "cell_type": "code",
   "execution_count": 16,
   "metadata": {
    "collapsed": false
   },
   "outputs": [
    {
     "data": {
      "text/html": [
       "<div>\n",
       "<table border=\"1\" class=\"dataframe\">\n",
       "  <thead>\n",
       "    <tr style=\"text-align: right;\">\n",
       "      <th></th>\n",
       "      <th>cdi_youngster</th>\n",
       "      <th>hiv_noguerajulian</th>\n",
       "      <th>hiv_lozupone</th>\n",
       "      <th>t1d_alkanani</th>\n",
       "      <th>edd_singh</th>\n",
       "      <th>asd_son</th>\n",
       "      <th>crc_zeller</th>\n",
       "      <th>liv_zhang</th>\n",
       "      <th>ibd_papa</th>\n",
       "      <th>ob_zhu</th>\n",
       "      <th>...</th>\n",
       "      <th>crc_chen</th>\n",
       "      <th>ob_turnbaugh</th>\n",
       "      <th>hiv_dinh</th>\n",
       "      <th>noncdi_schubert</th>\n",
       "      <th>ibd_morgan</th>\n",
       "      <th>ob_zupancic</th>\n",
       "      <th>ob_goodrich</th>\n",
       "      <th>t1d_mejialeon</th>\n",
       "      <th>ibd_willing</th>\n",
       "      <th>nash_wong</th>\n",
       "    </tr>\n",
       "  </thead>\n",
       "  <tbody>\n",
       "    <tr>\n",
       "      <th>k__Archaea;p__Euryarchaeota;c__Methanobacteria;o__Methanobacteriales;f__Methanobacteriaceae;g__Methanobacterium</th>\n",
       "      <td>NaN</td>\n",
       "      <td>NaN</td>\n",
       "      <td>NaN</td>\n",
       "      <td>NaN</td>\n",
       "      <td>NaN</td>\n",
       "      <td>NaN</td>\n",
       "      <td>11.338780</td>\n",
       "      <td>NaN</td>\n",
       "      <td>NaN</td>\n",
       "      <td>NaN</td>\n",
       "      <td>...</td>\n",
       "      <td>NaN</td>\n",
       "      <td>NaN</td>\n",
       "      <td>NaN</td>\n",
       "      <td>NaN</td>\n",
       "      <td>NaN</td>\n",
       "      <td>NaN</td>\n",
       "      <td>NaN</td>\n",
       "      <td>NaN</td>\n",
       "      <td>NaN</td>\n",
       "      <td>NaN</td>\n",
       "    </tr>\n",
       "    <tr>\n",
       "      <th>k__Archaea;p__Euryarchaeota;c__Methanobacteria;o__Methanobacteriales;f__Methanobacteriaceae;g__Methanobrevibacter</th>\n",
       "      <td>NaN</td>\n",
       "      <td>4.963824</td>\n",
       "      <td>2.711132</td>\n",
       "      <td>7.008263</td>\n",
       "      <td>NaN</td>\n",
       "      <td>NaN</td>\n",
       "      <td>2.386900</td>\n",
       "      <td>NaN</td>\n",
       "      <td>NaN</td>\n",
       "      <td>NaN</td>\n",
       "      <td>...</td>\n",
       "      <td>NaN</td>\n",
       "      <td>NaN</td>\n",
       "      <td>NaN</td>\n",
       "      <td>6.036091</td>\n",
       "      <td>7.679959</td>\n",
       "      <td>NaN</td>\n",
       "      <td>3.964877</td>\n",
       "      <td>NaN</td>\n",
       "      <td>NaN</td>\n",
       "      <td>NaN</td>\n",
       "    </tr>\n",
       "    <tr>\n",
       "      <th>k__Archaea;p__Euryarchaeota;c__Methanobacteria;o__Methanobacteriales;f__Methanobacteriaceae;g__Methanosphaera</th>\n",
       "      <td>NaN</td>\n",
       "      <td>4.587775</td>\n",
       "      <td>NaN</td>\n",
       "      <td>NaN</td>\n",
       "      <td>NaN</td>\n",
       "      <td>NaN</td>\n",
       "      <td>4.385177</td>\n",
       "      <td>NaN</td>\n",
       "      <td>NaN</td>\n",
       "      <td>NaN</td>\n",
       "      <td>...</td>\n",
       "      <td>NaN</td>\n",
       "      <td>NaN</td>\n",
       "      <td>NaN</td>\n",
       "      <td>NaN</td>\n",
       "      <td>NaN</td>\n",
       "      <td>NaN</td>\n",
       "      <td>16.202071</td>\n",
       "      <td>NaN</td>\n",
       "      <td>NaN</td>\n",
       "      <td>NaN</td>\n",
       "    </tr>\n",
       "    <tr>\n",
       "      <th>k__Archaea;p__Euryarchaeota;c__Thermoplasmata;o__Methanomassiliicoccales;f__Methanomassiliicoccaceae;g__Methanomassiliicoccus</th>\n",
       "      <td>NaN</td>\n",
       "      <td>NaN</td>\n",
       "      <td>NaN</td>\n",
       "      <td>NaN</td>\n",
       "      <td>NaN</td>\n",
       "      <td>NaN</td>\n",
       "      <td>4.345876</td>\n",
       "      <td>NaN</td>\n",
       "      <td>NaN</td>\n",
       "      <td>NaN</td>\n",
       "      <td>...</td>\n",
       "      <td>NaN</td>\n",
       "      <td>NaN</td>\n",
       "      <td>NaN</td>\n",
       "      <td>NaN</td>\n",
       "      <td>NaN</td>\n",
       "      <td>NaN</td>\n",
       "      <td>7.789333</td>\n",
       "      <td>NaN</td>\n",
       "      <td>NaN</td>\n",
       "      <td>NaN</td>\n",
       "    </tr>\n",
       "    <tr>\n",
       "      <th>k__Bacteria;p__Actinobacteria;c__Actinobacteria;o__Actinomycetales;f__Actinomycetaceae;g__Actinobaculum</th>\n",
       "      <td>NaN</td>\n",
       "      <td>NaN</td>\n",
       "      <td>NaN</td>\n",
       "      <td>NaN</td>\n",
       "      <td>NaN</td>\n",
       "      <td>NaN</td>\n",
       "      <td>NaN</td>\n",
       "      <td>NaN</td>\n",
       "      <td>NaN</td>\n",
       "      <td>NaN</td>\n",
       "      <td>...</td>\n",
       "      <td>NaN</td>\n",
       "      <td>NaN</td>\n",
       "      <td>NaN</td>\n",
       "      <td>NaN</td>\n",
       "      <td>NaN</td>\n",
       "      <td>NaN</td>\n",
       "      <td>NaN</td>\n",
       "      <td>NaN</td>\n",
       "      <td>NaN</td>\n",
       "      <td>NaN</td>\n",
       "    </tr>\n",
       "  </tbody>\n",
       "</table>\n",
       "<p>5 rows × 30 columns</p>\n",
       "</div>"
      ],
      "text/plain": [
       "                                                    cdi_youngster  \\\n",
       "k__Archaea;p__Euryarchaeota;c__Methanobacteria;...            NaN   \n",
       "k__Archaea;p__Euryarchaeota;c__Methanobacteria;...            NaN   \n",
       "k__Archaea;p__Euryarchaeota;c__Methanobacteria;...            NaN   \n",
       "k__Archaea;p__Euryarchaeota;c__Thermoplasmata;o...            NaN   \n",
       "k__Bacteria;p__Actinobacteria;c__Actinobacteria...            NaN   \n",
       "\n",
       "                                                    hiv_noguerajulian  \\\n",
       "k__Archaea;p__Euryarchaeota;c__Methanobacteria;...                NaN   \n",
       "k__Archaea;p__Euryarchaeota;c__Methanobacteria;...           4.963824   \n",
       "k__Archaea;p__Euryarchaeota;c__Methanobacteria;...           4.587775   \n",
       "k__Archaea;p__Euryarchaeota;c__Thermoplasmata;o...                NaN   \n",
       "k__Bacteria;p__Actinobacteria;c__Actinobacteria...                NaN   \n",
       "\n",
       "                                                    hiv_lozupone  \\\n",
       "k__Archaea;p__Euryarchaeota;c__Methanobacteria;...           NaN   \n",
       "k__Archaea;p__Euryarchaeota;c__Methanobacteria;...      2.711132   \n",
       "k__Archaea;p__Euryarchaeota;c__Methanobacteria;...           NaN   \n",
       "k__Archaea;p__Euryarchaeota;c__Thermoplasmata;o...           NaN   \n",
       "k__Bacteria;p__Actinobacteria;c__Actinobacteria...           NaN   \n",
       "\n",
       "                                                    t1d_alkanani  edd_singh  \\\n",
       "k__Archaea;p__Euryarchaeota;c__Methanobacteria;...           NaN        NaN   \n",
       "k__Archaea;p__Euryarchaeota;c__Methanobacteria;...      7.008263        NaN   \n",
       "k__Archaea;p__Euryarchaeota;c__Methanobacteria;...           NaN        NaN   \n",
       "k__Archaea;p__Euryarchaeota;c__Thermoplasmata;o...           NaN        NaN   \n",
       "k__Bacteria;p__Actinobacteria;c__Actinobacteria...           NaN        NaN   \n",
       "\n",
       "                                                    asd_son  crc_zeller  \\\n",
       "k__Archaea;p__Euryarchaeota;c__Methanobacteria;...      NaN   11.338780   \n",
       "k__Archaea;p__Euryarchaeota;c__Methanobacteria;...      NaN    2.386900   \n",
       "k__Archaea;p__Euryarchaeota;c__Methanobacteria;...      NaN    4.385177   \n",
       "k__Archaea;p__Euryarchaeota;c__Thermoplasmata;o...      NaN    4.345876   \n",
       "k__Bacteria;p__Actinobacteria;c__Actinobacteria...      NaN         NaN   \n",
       "\n",
       "                                                    liv_zhang  ibd_papa  \\\n",
       "k__Archaea;p__Euryarchaeota;c__Methanobacteria;...        NaN       NaN   \n",
       "k__Archaea;p__Euryarchaeota;c__Methanobacteria;...        NaN       NaN   \n",
       "k__Archaea;p__Euryarchaeota;c__Methanobacteria;...        NaN       NaN   \n",
       "k__Archaea;p__Euryarchaeota;c__Thermoplasmata;o...        NaN       NaN   \n",
       "k__Bacteria;p__Actinobacteria;c__Actinobacteria...        NaN       NaN   \n",
       "\n",
       "                                                    ob_zhu    ...      \\\n",
       "k__Archaea;p__Euryarchaeota;c__Methanobacteria;...     NaN    ...       \n",
       "k__Archaea;p__Euryarchaeota;c__Methanobacteria;...     NaN    ...       \n",
       "k__Archaea;p__Euryarchaeota;c__Methanobacteria;...     NaN    ...       \n",
       "k__Archaea;p__Euryarchaeota;c__Thermoplasmata;o...     NaN    ...       \n",
       "k__Bacteria;p__Actinobacteria;c__Actinobacteria...     NaN    ...       \n",
       "\n",
       "                                                    crc_chen  ob_turnbaugh  \\\n",
       "k__Archaea;p__Euryarchaeota;c__Methanobacteria;...       NaN           NaN   \n",
       "k__Archaea;p__Euryarchaeota;c__Methanobacteria;...       NaN           NaN   \n",
       "k__Archaea;p__Euryarchaeota;c__Methanobacteria;...       NaN           NaN   \n",
       "k__Archaea;p__Euryarchaeota;c__Thermoplasmata;o...       NaN           NaN   \n",
       "k__Bacteria;p__Actinobacteria;c__Actinobacteria...       NaN           NaN   \n",
       "\n",
       "                                                    hiv_dinh  noncdi_schubert  \\\n",
       "k__Archaea;p__Euryarchaeota;c__Methanobacteria;...       NaN              NaN   \n",
       "k__Archaea;p__Euryarchaeota;c__Methanobacteria;...       NaN         6.036091   \n",
       "k__Archaea;p__Euryarchaeota;c__Methanobacteria;...       NaN              NaN   \n",
       "k__Archaea;p__Euryarchaeota;c__Thermoplasmata;o...       NaN              NaN   \n",
       "k__Bacteria;p__Actinobacteria;c__Actinobacteria...       NaN              NaN   \n",
       "\n",
       "                                                    ibd_morgan  ob_zupancic  \\\n",
       "k__Archaea;p__Euryarchaeota;c__Methanobacteria;...         NaN          NaN   \n",
       "k__Archaea;p__Euryarchaeota;c__Methanobacteria;...    7.679959          NaN   \n",
       "k__Archaea;p__Euryarchaeota;c__Methanobacteria;...         NaN          NaN   \n",
       "k__Archaea;p__Euryarchaeota;c__Thermoplasmata;o...         NaN          NaN   \n",
       "k__Bacteria;p__Actinobacteria;c__Actinobacteria...         NaN          NaN   \n",
       "\n",
       "                                                    ob_goodrich  \\\n",
       "k__Archaea;p__Euryarchaeota;c__Methanobacteria;...          NaN   \n",
       "k__Archaea;p__Euryarchaeota;c__Methanobacteria;...     3.964877   \n",
       "k__Archaea;p__Euryarchaeota;c__Methanobacteria;...    16.202071   \n",
       "k__Archaea;p__Euryarchaeota;c__Thermoplasmata;o...     7.789333   \n",
       "k__Bacteria;p__Actinobacteria;c__Actinobacteria...          NaN   \n",
       "\n",
       "                                                    t1d_mejialeon  \\\n",
       "k__Archaea;p__Euryarchaeota;c__Methanobacteria;...            NaN   \n",
       "k__Archaea;p__Euryarchaeota;c__Methanobacteria;...            NaN   \n",
       "k__Archaea;p__Euryarchaeota;c__Methanobacteria;...            NaN   \n",
       "k__Archaea;p__Euryarchaeota;c__Thermoplasmata;o...            NaN   \n",
       "k__Bacteria;p__Actinobacteria;c__Actinobacteria...            NaN   \n",
       "\n",
       "                                                    ibd_willing  nash_wong  \n",
       "k__Archaea;p__Euryarchaeota;c__Methanobacteria;...          NaN        NaN  \n",
       "k__Archaea;p__Euryarchaeota;c__Methanobacteria;...          NaN        NaN  \n",
       "k__Archaea;p__Euryarchaeota;c__Methanobacteria;...          NaN        NaN  \n",
       "k__Archaea;p__Euryarchaeota;c__Thermoplasmata;o...          NaN        NaN  \n",
       "k__Bacteria;p__Actinobacteria;c__Actinobacteria...          NaN        NaN  \n",
       "\n",
       "[5 rows x 30 columns]"
      ]
     },
     "execution_count": 16,
     "metadata": {},
     "output_type": "execute_result"
    }
   ],
   "source": [
    "cvdf = pd.concat(cvlst, axis=1)\n",
    "cvdf.head()"
   ]
  },
  {
   "cell_type": "code",
   "execution_count": 28,
   "metadata": {
    "collapsed": false
   },
   "outputs": [],
   "source": [
    "meancv = cvdf.mean(axis=1)\n",
    "meancv.name = 'mean_cv'\n",
    "meancv = pd.concat((coredf, meancv), axis=1)"
   ]
  },
  {
   "cell_type": "code",
   "execution_count": 29,
   "metadata": {
    "collapsed": false
   },
   "outputs": [
    {
     "data": {
      "text/html": [
       "<div>\n",
       "<table border=\"1\" class=\"dataframe\">\n",
       "  <thead>\n",
       "    <tr style=\"text-align: right;\">\n",
       "      <th></th>\n",
       "      <th>overall</th>\n",
       "      <th>mean_cv</th>\n",
       "    </tr>\n",
       "  </thead>\n",
       "  <tbody>\n",
       "    <tr>\n",
       "      <th>k__Archaea;p__Euryarchaeota;c__Methanobacteria;o__Methanobacteriales;f__Methanobacteriaceae;g__Methanobacterium</th>\n",
       "      <td>NaN</td>\n",
       "      <td>11.338780</td>\n",
       "    </tr>\n",
       "    <tr>\n",
       "      <th>k__Archaea;p__Euryarchaeota;c__Methanobacteria;o__Methanobacteriales;f__Methanobacteriaceae;g__Methanobrevibacter</th>\n",
       "      <td>NaN</td>\n",
       "      <td>5.044171</td>\n",
       "    </tr>\n",
       "    <tr>\n",
       "      <th>k__Archaea;p__Euryarchaeota;c__Methanobacteria;o__Methanobacteriales;f__Methanobacteriaceae;g__Methanosphaera</th>\n",
       "      <td>NaN</td>\n",
       "      <td>8.121700</td>\n",
       "    </tr>\n",
       "    <tr>\n",
       "      <th>k__Archaea;p__Euryarchaeota;c__Thermoplasmata;o__Methanomassiliicoccales;f__Methanomassiliicoccaceae;g__Methanomassiliicoccus</th>\n",
       "      <td>NaN</td>\n",
       "      <td>8.611755</td>\n",
       "    </tr>\n",
       "    <tr>\n",
       "      <th>k__Bacteria;p__Actinobacteria;c__Actinobacteria;o__Actinomycetales;f__Actinomycetaceae;g__Actinobaculum</th>\n",
       "      <td>NaN</td>\n",
       "      <td>7.071068</td>\n",
       "    </tr>\n",
       "  </tbody>\n",
       "</table>\n",
       "</div>"
      ],
      "text/plain": [
       "                                                    overall    mean_cv\n",
       "k__Archaea;p__Euryarchaeota;c__Methanobacteria;...      NaN  11.338780\n",
       "k__Archaea;p__Euryarchaeota;c__Methanobacteria;...      NaN   5.044171\n",
       "k__Archaea;p__Euryarchaeota;c__Methanobacteria;...      NaN   8.121700\n",
       "k__Archaea;p__Euryarchaeota;c__Thermoplasmata;o...      NaN   8.611755\n",
       "k__Bacteria;p__Actinobacteria;c__Actinobacteria...      NaN   7.071068"
      ]
     },
     "execution_count": 29,
     "metadata": {},
     "output_type": "execute_result"
    }
   ],
   "source": [
    "meancv.head()"
   ]
  },
  {
   "cell_type": "code",
   "execution_count": 34,
   "metadata": {
    "collapsed": false
   },
   "outputs": [],
   "source": [
    "meancv['overall'] = meancv['overall'].fillna('nan')"
   ]
  },
  {
   "cell_type": "code",
   "execution_count": 35,
   "metadata": {
    "collapsed": false
   },
   "outputs": [
    {
     "data": {
      "text/plain": [
       "overall\n",
       "-1.0    2.849531\n",
       "0.0     3.030126\n",
       "1.0     5.666259\n",
       "nan     6.728600\n",
       "Name: mean_cv, dtype: float64"
      ]
     },
     "execution_count": 35,
     "metadata": {},
     "output_type": "execute_result"
    }
   ],
   "source": [
    "meancv.groupby('overall').mean()['mean_cv']"
   ]
  },
  {
   "cell_type": "code",
   "execution_count": 47,
   "metadata": {
    "collapsed": false
   },
   "outputs": [
    {
     "data": {
      "text/plain": [
       "(0, 20.0)"
      ]
     },
     "execution_count": 47,
     "metadata": {},
     "output_type": "execute_result"
    },
    {
     "data": {
      "image/png": "[encoded data removed]",
      "text/plain": [
       "<matplotlib.figure.Figure at 0x114a76cd0>"
      ]
     },
     "metadata": {},
     "output_type": "display_data"
    }
   ],
   "source": [
    "sns.set_style('white')\n",
    "fig, ax = plt.subplots()\n",
    "sns.boxplot(data=meancv, x='overall', y='mean_cv')\n",
    "sns.stripplot(data=meancv, x='overall', y='mean_cv', jitter=True, linewidth=0.5)\n",
    "ax.set_ylabel('Mean CV across studies (per genus)')\n",
    "ax.set_xticklabels(['health', 'mixed', 'disease', 'not core'])\n",
    "ax.set_xlabel('')\n",
    "ax.set_ylim([0, None])"
   ]
  },
  {
   "cell_type": "code",
   "execution_count": 41,
   "metadata": {
    "collapsed": false
   },
   "outputs": [
    {
     "data": {
      "text/plain": [
       "RanksumsResult(statistic=-4.902607016226729, pvalue=9.4573062694856756e-07)"
      ]
     },
     "execution_count": 41,
     "metadata": {},
     "output_type": "execute_result"
    }
   ],
   "source": [
    "from scipy.stats import ranksums\n",
    "\n",
    "ranksums(meancv.query('overall == -1')['mean_cv'].dropna(), meancv.query('overall == 1')['mean_cv'].dropna())"
   ]
  },
  {
   "cell_type": "code",
   "execution_count": 43,
   "metadata": {
    "collapsed": false
   },
   "outputs": [
    {
     "data": {
      "text/plain": [
       "RanksumsResult(statistic=-6.6264295999185592, pvalue=3.4390337019948479e-11)"
      ]
     },
     "execution_count": 43,
     "metadata": {},
     "output_type": "execute_result"
    }
   ],
   "source": [
    "ranksums(meancv.query('overall == -1')['mean_cv'].dropna(), meancv.query('overall == \"nan\"')['mean_cv'].dropna())"
   ]
  },
  {
   "cell_type": "code",
   "execution_count": 44,
   "metadata": {
    "collapsed": false
   },
   "outputs": [
    {
     "data": {
      "text/plain": [
       "RanksumsResult(statistic=-0.3779644730092272, pvalue=0.70545698611127339)"
      ]
     },
     "execution_count": 44,
     "metadata": {},
     "output_type": "execute_result"
    }
   ],
   "source": [
    "ranksums(meancv.query('overall == -1')['mean_cv'].dropna(), meancv.query('overall == 0')['mean_cv'].dropna())"
   ]
  },
  {
   "cell_type": "code",
   "execution_count": null,
   "metadata": {
    "collapsed": true
   },
   "outputs": [],
   "source": []
  }
 ],
 "metadata": {
  "kernelspec": {
   "display_name": "Python [default]",
   "language": "python",
   "name": "python2"
  },
  "language_info": {
   "codemirror_mode": {
    "name": "ipython",
    "version": 2
   },
   "file_extension": ".py",
   "mimetype": "text/x-python",
   "name": "python",
   "nbconvert_exporter": "python",
   "pygments_lexer": "ipython2",
   "version": "2.7.12"
  }
 },
 "nbformat": 4,
 "nbformat_minor": 2
}
