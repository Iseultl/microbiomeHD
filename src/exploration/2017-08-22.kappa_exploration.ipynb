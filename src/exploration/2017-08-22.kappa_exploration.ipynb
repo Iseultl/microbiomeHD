{
 "cells": [
  {
   "cell_type": "markdown",
   "metadata": {},
   "source": [
    "This notebook attempts to respond to the reviewers' comments about the kappa stuff for the classifiers."
   ]
  },
  {
   "cell_type": "code",
   "execution_count": 14,
   "metadata": {
    "collapsed": false
   },
   "outputs": [],
   "source": [
    "import pandas as pd\n",
    "\n",
    "import matplotlib.pyplot as plt\n",
    "import seaborn as sns\n",
    "%matplotlib inline\n",
    "\n",
    "# Add src/util to path and import modules from files there\n",
    "import os, sys\n",
    "src_dir = os.path.normpath(os.path.join(os.getcwd(), '../util'))\n",
    "sys.path.insert(0, src_dir)\n",
    "import FileIO as fio\n",
    "from util import collapse_taxonomic_contents_df, prep_classifier, cv_and_roc"
   ]
  },
  {
   "cell_type": "code",
   "execution_count": 2,
   "metadata": {
    "collapsed": false
   },
   "outputs": [
    {
     "data": {
      "text/plain": [
       "(91, 2742)"
      ]
     },
     "execution_count": 2,
     "metadata": {},
     "output_type": "execute_result"
    }
   ],
   "source": [
    "random_state = 12345\n",
    "\n",
    "datadir = '../../data/clean_tables/'\n",
    "dataset = 'ibd_papa'\n",
    "\n",
    "df, meta = fio.read_dataset_files(dataset, datadir)\n",
    "df.shape"
   ]
  },
  {
   "cell_type": "code",
   "execution_count": 3,
   "metadata": {
    "collapsed": false
   },
   "outputs": [],
   "source": [
    "classes_list = fio.get_classes(meta, dataset)\n",
    "H_smpls, dis_smpls = fio.get_samples(meta, classes_list)\n",
    "\n",
    "rf, X, Y = prep_classifier(df, H_smpls, dis_smpls, random_state)\n",
    "results = cv_and_roc(rf, X, Y, random_state=random_state)"
   ]
  },
  {
   "cell_type": "code",
   "execution_count": 4,
   "metadata": {
    "collapsed": false
   },
   "outputs": [
    {
     "data": {
      "text/plain": [
       "['y_true',\n",
       " 'y_prob',\n",
       " 'mean_tpr',\n",
       " 'mean_fpr',\n",
       " 'test_fold',\n",
       " 'kappa_scores',\n",
       " 'conf_mat',\n",
       " 'kappas',\n",
       " 'fisher_p',\n",
       " 'roc_auc']"
      ]
     },
     "execution_count": 4,
     "metadata": {},
     "output_type": "execute_result"
    }
   ],
   "source": [
    "results.keys()"
   ]
  },
  {
   "cell_type": "code",
   "execution_count": 5,
   "metadata": {
    "collapsed": false
   },
   "outputs": [
    {
     "data": {
      "text/plain": [
       "[0.37704918032786866,\n",
       " 0.15094339622641509,\n",
       " 0.0,\n",
       " 0.26530612244897994,\n",
       " 0.33766233766233772]"
      ]
     },
     "execution_count": 5,
     "metadata": {},
     "output_type": "execute_result"
    }
   ],
   "source": [
    "results['kappas']"
   ]
  },
  {
   "cell_type": "code",
   "execution_count": 6,
   "metadata": {
    "collapsed": false
   },
   "outputs": [
    {
     "data": {
      "text/plain": [
       "[0.37704918032786866,\n",
       " 0.15094339622641509,\n",
       " 0.0,\n",
       " 0.26530612244897994,\n",
       " 0.33766233766233772]"
      ]
     },
     "execution_count": 6,
     "metadata": {},
     "output_type": "execute_result"
    }
   ],
   "source": [
    "results['kappa_scores']"
   ]
  },
  {
   "cell_type": "code",
   "execution_count": 43,
   "metadata": {
    "collapsed": false
   },
   "outputs": [
    {
     "name": "stdout",
     "output_type": "stream",
     "text": [
      " Reading datasets...\n",
      "cdi_youngster hiv_noguerajulian hiv_lozupone t1d_alkanani edd_singh asd_son crc_zeller liv_zhang ibd_papa ob_zhu crc_baxter cdi_schubert par_scheperjans crc_wang ibd_gevers nash_zhu cdi_vincent ob_ross asd_kang art_scher crc_chen ob_turnbaugh hiv_dinh noncdi_schubert ibd_morgan ob_zupancic ob_goodrich t1d_mejialeon ibd_willing nash_wong \n",
      "Reading datasets... Finished.\n"
     ]
    }
   ],
   "source": [
    "dfdict = fio.read_dfdict_data(datadir)"
   ]
  },
  {
   "cell_type": "code",
   "execution_count": 44,
   "metadata": {
    "collapsed": false
   },
   "outputs": [
    {
     "name": "stdout",
     "output_type": "stream",
     "text": [
      "art_scher cdi_youngster hiv_noguerajulian hiv_lozupone t1d_alkanani edd_singh crc_chen asd_son crc_zeller liv_zhang ob_turnbaugh ibd_papa hiv_dinh ob_zhu crc_baxter cdi_schubert par_scheperjans crc_wang ibd_willing ibd_morgan ibd_gevers nash_wong ob_zupancic nash_zhu cdi_vincent ob_ross t1d_mejialeon noncdi_schubert asd_kang ob_goodrich\n"
     ]
    }
   ],
   "source": [
    "k_lst = []\n",
    "for dataset in dfdict.keys():\n",
    "    print(dataset),\n",
    "    df = dfdict[dataset]['df']\n",
    "    meta = dfdict[dataset]['meta']\n",
    "\n",
    "    # Prepare OTU table: collapse to genus, keep only core (if required)\n",
    "    df = collapse_taxonomic_contents_df(df,'genus')\n",
    "\n",
    "    classes_list = fio.get_classes(meta, dataset)\n",
    "    H_smpls, dis_smpls = fio.get_samples(meta, classes_list)\n",
    "\n",
    "    rf, X, Y = prep_classifier(df, H_smpls, dis_smpls, random_state=random_state)\n",
    "    results = cv_and_roc(rf, X, Y, random_state=random_state)\n",
    "\n",
    "    tmp = pd.DataFrame(columns=['dataset', 'kappa'])\n",
    "    tmp['kappa'] = results['kappas']\n",
    "    tmp['dataset'] = dataset\n",
    "    k_lst.append(tmp)\n",
    "    dfdict[dataset].update(results)"
   ]
  },
  {
   "cell_type": "code",
   "execution_count": 45,
   "metadata": {
    "collapsed": false
   },
   "outputs": [
    {
     "data": {
      "text/html": [
       "<div>\n",
       "<table border=\"1\" class=\"dataframe\">\n",
       "  <thead>\n",
       "    <tr style=\"text-align: right;\">\n",
       "      <th></th>\n",
       "      <th>dataset</th>\n",
       "      <th>kappa</th>\n",
       "    </tr>\n",
       "  </thead>\n",
       "  <tbody>\n",
       "    <tr>\n",
       "      <th>0</th>\n",
       "      <td>art_scher</td>\n",
       "      <td>0.000000</td>\n",
       "    </tr>\n",
       "    <tr>\n",
       "      <th>1</th>\n",
       "      <td>art_scher</td>\n",
       "      <td>0.000000</td>\n",
       "    </tr>\n",
       "    <tr>\n",
       "      <th>2</th>\n",
       "      <td>art_scher</td>\n",
       "      <td>0.000000</td>\n",
       "    </tr>\n",
       "    <tr>\n",
       "      <th>3</th>\n",
       "      <td>art_scher</td>\n",
       "      <td>0.000000</td>\n",
       "    </tr>\n",
       "    <tr>\n",
       "      <th>4</th>\n",
       "      <td>art_scher</td>\n",
       "      <td>-0.149254</td>\n",
       "    </tr>\n",
       "  </tbody>\n",
       "</table>\n",
       "</div>"
      ],
      "text/plain": [
       "     dataset     kappa\n",
       "0  art_scher  0.000000\n",
       "1  art_scher  0.000000\n",
       "2  art_scher  0.000000\n",
       "3  art_scher  0.000000\n",
       "4  art_scher -0.149254"
      ]
     },
     "execution_count": 45,
     "metadata": {},
     "output_type": "execute_result"
    }
   ],
   "source": [
    "k_df = pd.concat(k_lst)\n",
    "k_df.head()"
   ]
  },
  {
   "cell_type": "code",
   "execution_count": 46,
   "metadata": {
    "collapsed": false
   },
   "outputs": [],
   "source": [
    "fname = '../../data/analysis_results/rf_results.txt'\n",
    "rfresults = pd.read_csv(fname, sep='\\t')"
   ]
  },
  {
   "cell_type": "code",
   "execution_count": 47,
   "metadata": {
    "collapsed": false
   },
   "outputs": [
    {
     "data": {
      "text/plain": [
       "(0.5, 1)"
      ]
     },
     "execution_count": 47,
     "metadata": {},
     "output_type": "execute_result"
    },
    {
     "data": {
      "image/png": "[encoded data removed]",
      "text/plain": [
       "<matplotlib.figure.Figure at 0x1285cf250>"
      ]
     },
     "metadata": {},
     "output_type": "display_data"
    }
   ],
   "source": [
    "fig, ax = plt.subplots(2, 1)\n",
    "sns.boxplot(data=k_df, x='dataset', y='kappa', ax=ax[0])\n",
    "sns.stripplot(data=k_df, x='dataset', y='kappa', ax=ax[0], linewidth=0.6)#, ci=None)\n",
    "_ = ax[0].set_xticklabels([])\n",
    "ax[0].set_ylim([0, 1])\n",
    "\n",
    "sns.barplot(data=rfresults[['dataset', 'roc_auc']].drop_duplicates(), x='dataset', y='roc_auc', ax=ax[1])\n",
    "_ = ax[1].set_xticklabels(ax[1].get_xticklabels(), rotation=90)\n",
    "ax[1].set_ylim([0.5, 1])"
   ]
  },
  {
   "cell_type": "code",
   "execution_count": 48,
   "metadata": {
    "collapsed": false
   },
   "outputs": [
    {
     "name": "stdout",
     "output_type": "stream",
     "text": [
      "art_scher, avg: -0.030, total: -0.034\n",
      "cdi_youngster, avg: nan, total: 0.623\n",
      "hiv_noguerajulian, avg: 0.000, total: 0.000\n",
      "hiv_lozupone, avg: 0.766, total: 0.759\n",
      "t1d_alkanani, avg: 0.262, total: 0.267\n",
      "edd_singh, avg: 0.693, total: 0.699\n",
      "crc_chen, avg: 0.347, total: 0.348\n",
      "asd_son, avg: -0.165, total: -0.165\n",
      "crc_zeller, avg: 0.403, total: 0.414\n",
      "liv_zhang, avg: 0.289, total: 0.294\n",
      "ob_turnbaugh, avg: 0.265, total: 0.278\n",
      "ibd_papa, avg: 0.303, total: 0.342\n",
      "hiv_dinh, avg: -0.224, total: -0.263\n",
      "ob_zhu, avg: 0.697, total: 0.693\n",
      "crc_baxter, avg: 0.431, total: 0.432\n",
      "cdi_schubert, avg: 0.878, total: 0.878\n",
      "par_scheperjans, avg: 0.229, total: 0.230\n",
      "crc_wang, avg: 0.666, total: 0.669\n",
      "ibd_willing, avg: 0.025, total: 0.026\n",
      "ibd_morgan, avg: 0.259, total: 0.255\n",
      "ibd_gevers, avg: 0.000, total: 0.000\n",
      "nash_wong, avg: 0.292, total: 0.280\n",
      "ob_zupancic, avg: -0.106, total: -0.105\n",
      "nash_zhu, avg: 0.845, total: 0.839\n",
      "cdi_vincent, avg: 0.680, total: 0.680\n",
      "ob_ross, avg: -0.069, total: -0.068\n",
      "t1d_mejialeon, avg: 0.309, total: 0.251\n",
      "noncdi_schubert, avg: 0.788, total: 0.789\n",
      "asd_kang, avg: 0.332, total: 0.334\n",
      "ob_goodrich, avg: 0.108, total: 0.108\n"
     ]
    }
   ],
   "source": [
    "from sklearn.metrics import cohen_kappa_score\n",
    "import numpy as np\n",
    "# Is the average kappa value from each of the five folds the same as the overall one from the probabilities?\n",
    "for dataset in dfdict:\n",
    "    print('{}, avg: {:.3f}, total: {:.3f}'.format(\n",
    "            dataset, \n",
    "            np.mean(dfdict[dataset]['kappa_scores']), \n",
    "            cohen_kappa_score(dfdict[dataset]['y_true'], dfdict[dataset]['y_prob'] > 0.5)))"
   ]
  },
  {
   "cell_type": "code",
   "execution_count": 40,
   "metadata": {
    "collapsed": false
   },
   "outputs": [
    {
     "data": {
      "text/plain": [
       "['y_true',\n",
       " 'y_prob',\n",
       " 'mean_tpr',\n",
       " 'mean_fpr',\n",
       " 'test_fold',\n",
       " 'kappa_scores',\n",
       " 'conf_mat',\n",
       " 'kappas',\n",
       " 'fisher_p',\n",
       " 'roc_auc']"
      ]
     },
     "execution_count": 40,
     "metadata": {},
     "output_type": "execute_result"
    }
   ],
   "source": [
    "results.keys()"
   ]
  },
  {
   "cell_type": "code",
   "execution_count": null,
   "metadata": {
    "collapsed": true
   },
   "outputs": [],
   "source": []
  }
 ],
 "metadata": {
  "anaconda-cloud": {},
  "kernelspec": {
   "display_name": "Python [default]",
   "language": "python",
   "name": "python2"
  },
  "language_info": {
   "codemirror_mode": {
    "name": "ipython",
    "version": 2
   },
   "file_extension": ".py",
   "mimetype": "text/x-python",
   "name": "python",
   "nbconvert_exporter": "python",
   "pygments_lexer": "ipython2",
   "version": "2.7.12"
  }
 },
 "nbformat": 4,
 "nbformat_minor": 2
}
